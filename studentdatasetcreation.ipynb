{
 "cells": [
  {
   "cell_type": "code",
   "execution_count": 3,
   "metadata": {},
   "outputs": [
    {
     "name": "stdout",
     "output_type": "stream",
     "text": [
      "Collecting pandas\n",
      "  Using cached https://files.pythonhosted.org/packages/c3/6c/ea362eef61f05553aaf1a24b3e96b2d0603f5dc71a3bd35688a24ed88843/pandas-2.0.3-cp38-cp38-win_amd64.whl\n",
      "Requirement already satisfied: python-dateutil>=2.8.2 in d:\\personal\\msc\\y1s1\\big data analytics technology\\248357d\\newvenv\\lib\\site-packages (from pandas) (2.9.0.post0)\n",
      "Collecting pytz>=2020.1 (from pandas)\n",
      "  Using cached https://files.pythonhosted.org/packages/9c/3d/a121f284241f08268b21359bd425f7d4825cffc5ac5cd0e1b3d82ffd2b10/pytz-2024.1-py2.py3-none-any.whl\n",
      "Collecting tzdata>=2022.1 (from pandas)\n",
      "  Using cached https://files.pythonhosted.org/packages/65/58/f9c9e6be752e9fcb8b6a0ee9fb87e6e7a1f6bcab2cdc73f02bb7ba91ada0/tzdata-2024.1-py2.py3-none-any.whl\n",
      "Requirement already satisfied: numpy>=1.20.3; python_version < \"3.10\" in d:\\personal\\msc\\y1s1\\big data analytics technology\\248357d\\newvenv\\lib\\site-packages (from pandas) (1.24.4)\n",
      "Requirement already satisfied: six>=1.5 in d:\\personal\\msc\\y1s1\\big data analytics technology\\248357d\\newvenv\\lib\\site-packages (from python-dateutil>=2.8.2->pandas) (1.16.0)\n",
      "Installing collected packages: pytz, tzdata, pandas\n",
      "Successfully installed pandas-2.0.3 pytz-2024.1 tzdata-2024.1\n",
      "Note: you may need to restart the kernel to use updated packages.\n"
     ]
    },
    {
     "name": "stderr",
     "output_type": "stream",
     "text": [
      "WARNING: You are using pip version 19.2.3, however version 24.0 is available.\n",
      "You should consider upgrading via the 'python -m pip install --upgrade pip' command.\n"
     ]
    }
   ],
   "source": [
    "pip install pandas"
   ]
  },
  {
   "cell_type": "code",
   "execution_count": 2,
   "metadata": {},
   "outputs": [],
   "source": [
    "import pandas as pd"
   ]
  },
  {
   "cell_type": "code",
   "execution_count": 3,
   "metadata": {},
   "outputs": [],
   "source": [
    "song_lyrics = pd.read_csv(\"datasets\\song_lyrics.csv\")"
   ]
  },
  {
   "cell_type": "code",
   "execution_count": 4,
   "metadata": {},
   "outputs": [],
   "source": [
    "song_lyrics.rename(columns={'artist':'artist_name', 'title':'track_name', 'year':'release_date','tag':'genre'}, inplace=True)"
   ]
  },
  {
   "cell_type": "code",
   "execution_count": 5,
   "metadata": {},
   "outputs": [],
   "source": [
    "song_lyrics.drop(columns=['views','features','id','language_cld3','language_ft','language'], inplace=True)"
   ]
  },
  {
   "cell_type": "code",
   "execution_count": 6,
   "metadata": {},
   "outputs": [
    {
     "data": {
      "text/html": [
       "<div>\n",
       "<style scoped>\n",
       "    .dataframe tbody tr th:only-of-type {\n",
       "        vertical-align: middle;\n",
       "    }\n",
       "\n",
       "    .dataframe tbody tr th {\n",
       "        vertical-align: top;\n",
       "    }\n",
       "\n",
       "    .dataframe thead th {\n",
       "        text-align: right;\n",
       "    }\n",
       "</style>\n",
       "<table border=\"1\" class=\"dataframe\">\n",
       "  <thead>\n",
       "    <tr style=\"text-align: right;\">\n",
       "      <th></th>\n",
       "      <th>track_name</th>\n",
       "      <th>genre</th>\n",
       "      <th>artist_name</th>\n",
       "      <th>release_date</th>\n",
       "      <th>lyrics</th>\n",
       "    </tr>\n",
       "  </thead>\n",
       "  <tbody>\n",
       "    <tr>\n",
       "      <th>0</th>\n",
       "      <td>Killa Cam</td>\n",
       "      <td>rap</td>\n",
       "      <td>Cam'ron</td>\n",
       "      <td>2004</td>\n",
       "      <td>[Chorus: Opera Steve &amp; Cam'ron]\\nKilla Cam, Ki...</td>\n",
       "    </tr>\n",
       "    <tr>\n",
       "      <th>1</th>\n",
       "      <td>Can I Live</td>\n",
       "      <td>rap</td>\n",
       "      <td>JAY-Z</td>\n",
       "      <td>1996</td>\n",
       "      <td>[Produced by Irv Gotti]\\n\\n[Intro]\\nYeah, hah,...</td>\n",
       "    </tr>\n",
       "    <tr>\n",
       "      <th>2</th>\n",
       "      <td>Forgive Me Father</td>\n",
       "      <td>rap</td>\n",
       "      <td>Fabolous</td>\n",
       "      <td>2003</td>\n",
       "      <td>Maybe cause I'm eatin\\nAnd these bastards fien...</td>\n",
       "    </tr>\n",
       "    <tr>\n",
       "      <th>3</th>\n",
       "      <td>Down and Out</td>\n",
       "      <td>rap</td>\n",
       "      <td>Cam'ron</td>\n",
       "      <td>2004</td>\n",
       "      <td>[Produced by Kanye West and Brian Miller]\\n\\n[...</td>\n",
       "    </tr>\n",
       "    <tr>\n",
       "      <th>4</th>\n",
       "      <td>Fly In</td>\n",
       "      <td>rap</td>\n",
       "      <td>Lil Wayne</td>\n",
       "      <td>2005</td>\n",
       "      <td>[Intro]\\nSo they ask me\\n\"Young boy\\nWhat you ...</td>\n",
       "    </tr>\n",
       "  </tbody>\n",
       "</table>\n",
       "</div>"
      ],
      "text/plain": [
       "          track_name genre artist_name  release_date  \\\n",
       "0          Killa Cam   rap     Cam'ron          2004   \n",
       "1         Can I Live   rap       JAY-Z          1996   \n",
       "2  Forgive Me Father   rap    Fabolous          2003   \n",
       "3       Down and Out   rap     Cam'ron          2004   \n",
       "4             Fly In   rap   Lil Wayne          2005   \n",
       "\n",
       "                                              lyrics  \n",
       "0  [Chorus: Opera Steve & Cam'ron]\\nKilla Cam, Ki...  \n",
       "1  [Produced by Irv Gotti]\\n\\n[Intro]\\nYeah, hah,...  \n",
       "2  Maybe cause I'm eatin\\nAnd these bastards fien...  \n",
       "3  [Produced by Kanye West and Brian Miller]\\n\\n[...  \n",
       "4  [Intro]\\nSo they ask me\\n\"Young boy\\nWhat you ...  "
      ]
     },
     "execution_count": 6,
     "metadata": {},
     "output_type": "execute_result"
    }
   ],
   "source": [
    "song_lyrics.head()"
   ]
  },
  {
   "cell_type": "code",
   "execution_count": 7,
   "metadata": {},
   "outputs": [
    {
     "name": "stdout",
     "output_type": "stream",
     "text": [
      "<class 'pandas.core.frame.DataFrame'>\n",
      "RangeIndex: 5134856 entries, 0 to 5134855\n",
      "Data columns (total 5 columns):\n",
      " #   Column        Dtype \n",
      "---  ------        ----- \n",
      " 0   track_name    object\n",
      " 1   genre         object\n",
      " 2   artist_name   object\n",
      " 3   release_date  int64 \n",
      " 4   lyrics        object\n",
      "dtypes: int64(1), object(4)\n",
      "memory usage: 195.9+ MB\n"
     ]
    }
   ],
   "source": [
    "song_lyrics.info()"
   ]
  },
  {
   "cell_type": "code",
   "execution_count": 8,
   "metadata": {},
   "outputs": [
    {
     "data": {
      "text/html": [
       "<div>\n",
       "<style scoped>\n",
       "    .dataframe tbody tr th:only-of-type {\n",
       "        vertical-align: middle;\n",
       "    }\n",
       "\n",
       "    .dataframe tbody tr th {\n",
       "        vertical-align: top;\n",
       "    }\n",
       "\n",
       "    .dataframe thead th {\n",
       "        text-align: right;\n",
       "    }\n",
       "</style>\n",
       "<table border=\"1\" class=\"dataframe\">\n",
       "  <thead>\n",
       "    <tr style=\"text-align: right;\">\n",
       "      <th></th>\n",
       "      <th>release_date</th>\n",
       "    </tr>\n",
       "  </thead>\n",
       "  <tbody>\n",
       "    <tr>\n",
       "      <th>count</th>\n",
       "      <td>5.134856e+06</td>\n",
       "    </tr>\n",
       "    <tr>\n",
       "      <th>mean</th>\n",
       "      <td>2.010303e+03</td>\n",
       "    </tr>\n",
       "    <tr>\n",
       "      <th>std</th>\n",
       "      <td>4.501192e+01</td>\n",
       "    </tr>\n",
       "    <tr>\n",
       "      <th>min</th>\n",
       "      <td>1.000000e+00</td>\n",
       "    </tr>\n",
       "    <tr>\n",
       "      <th>25%</th>\n",
       "      <td>2.009000e+03</td>\n",
       "    </tr>\n",
       "    <tr>\n",
       "      <th>50%</th>\n",
       "      <td>2.016000e+03</td>\n",
       "    </tr>\n",
       "    <tr>\n",
       "      <th>75%</th>\n",
       "      <td>2.019000e+03</td>\n",
       "    </tr>\n",
       "    <tr>\n",
       "      <th>max</th>\n",
       "      <td>2.100000e+03</td>\n",
       "    </tr>\n",
       "  </tbody>\n",
       "</table>\n",
       "</div>"
      ],
      "text/plain": [
       "       release_date\n",
       "count  5.134856e+06\n",
       "mean   2.010303e+03\n",
       "std    4.501192e+01\n",
       "min    1.000000e+00\n",
       "25%    2.009000e+03\n",
       "50%    2.016000e+03\n",
       "75%    2.019000e+03\n",
       "max    2.100000e+03"
      ]
     },
     "execution_count": 8,
     "metadata": {},
     "output_type": "execute_result"
    }
   ],
   "source": [
    "song_lyrics.describe()"
   ]
  },
  {
   "cell_type": "code",
   "execution_count": 9,
   "metadata": {},
   "outputs": [
    {
     "data": {
      "text/plain": [
       "5134856"
      ]
     },
     "execution_count": 9,
     "metadata": {},
     "output_type": "execute_result"
    }
   ],
   "source": [
    "len(song_lyrics)"
   ]
  },
  {
   "cell_type": "code",
   "execution_count": 10,
   "metadata": {},
   "outputs": [
    {
     "data": {
      "text/plain": [
       "array(['rap', 'rb', 'rock', 'pop', 'misc', 'country'], dtype=object)"
      ]
     },
     "execution_count": 10,
     "metadata": {},
     "output_type": "execute_result"
    }
   ],
   "source": [
    "song_lyrics[\"genre\"].unique()"
   ]
  },
  {
   "cell_type": "code",
   "execution_count": 11,
   "metadata": {},
   "outputs": [
    {
     "name": "stdout",
     "output_type": "stream",
     "text": [
      "Row count where genre is rap: 1724816\n"
     ]
    }
   ],
   "source": [
    "rap_count = song_lyrics[song_lyrics['genre'] == 'rap'].shape[0]\n",
    "\n",
    "print(\"Row count where genre is rap:\", rap_count)"
   ]
  },
  {
   "cell_type": "code",
   "execution_count": 12,
   "metadata": {},
   "outputs": [
    {
     "name": "stdout",
     "output_type": "stream",
     "text": [
      "There are null values in the records where genre is rap:\n",
      "track_name    True\n",
      "dtype: bool\n"
     ]
    }
   ],
   "source": [
    "rap_df = song_lyrics[song_lyrics['genre'] == 'rap']\n",
    "\n",
    "# Check for null values\n",
    "null_values = rap_df.isnull().any()\n",
    "\n",
    "if null_values.any():\n",
    "    print(\"There are null values in the records where genre is rap:\")\n",
    "    print(null_values[null_values])\n",
    "else:\n",
    "    print(\"There are no null values in the records where genre is rap.\")"
   ]
  },
  {
   "cell_type": "code",
   "execution_count": 13,
   "metadata": {},
   "outputs": [
    {
     "data": {
      "text/plain": [
       "track_name      94\n",
       "genre            0\n",
       "artist_name      0\n",
       "release_date     0\n",
       "lyrics           0\n",
       "dtype: int64"
      ]
     },
     "execution_count": 13,
     "metadata": {},
     "output_type": "execute_result"
    }
   ],
   "source": [
    "rap_df.isnull().sum()"
   ]
  },
  {
   "cell_type": "code",
   "execution_count": 14,
   "metadata": {},
   "outputs": [],
   "source": [
    "rap_df = song_lyrics[song_lyrics['genre'] == 'rap']\n",
    "\n",
    "# Drop records with null values\n",
    "rap_df_cleaned = rap_df.dropna()"
   ]
  },
  {
   "cell_type": "code",
   "execution_count": 15,
   "metadata": {},
   "outputs": [
    {
     "data": {
      "text/html": [
       "<div>\n",
       "<style scoped>\n",
       "    .dataframe tbody tr th:only-of-type {\n",
       "        vertical-align: middle;\n",
       "    }\n",
       "\n",
       "    .dataframe tbody tr th {\n",
       "        vertical-align: top;\n",
       "    }\n",
       "\n",
       "    .dataframe thead th {\n",
       "        text-align: right;\n",
       "    }\n",
       "</style>\n",
       "<table border=\"1\" class=\"dataframe\">\n",
       "  <thead>\n",
       "    <tr style=\"text-align: right;\">\n",
       "      <th></th>\n",
       "      <th>track_name</th>\n",
       "      <th>genre</th>\n",
       "      <th>artist_name</th>\n",
       "      <th>release_date</th>\n",
       "      <th>lyrics</th>\n",
       "    </tr>\n",
       "  </thead>\n",
       "  <tbody>\n",
       "    <tr>\n",
       "      <th>0</th>\n",
       "      <td>Killa Cam</td>\n",
       "      <td>rap</td>\n",
       "      <td>Cam'ron</td>\n",
       "      <td>2004</td>\n",
       "      <td>[Chorus: Opera Steve &amp; Cam'ron]\\nKilla Cam, Ki...</td>\n",
       "    </tr>\n",
       "    <tr>\n",
       "      <th>1</th>\n",
       "      <td>Can I Live</td>\n",
       "      <td>rap</td>\n",
       "      <td>JAY-Z</td>\n",
       "      <td>1996</td>\n",
       "      <td>[Produced by Irv Gotti]\\n\\n[Intro]\\nYeah, hah,...</td>\n",
       "    </tr>\n",
       "    <tr>\n",
       "      <th>2</th>\n",
       "      <td>Forgive Me Father</td>\n",
       "      <td>rap</td>\n",
       "      <td>Fabolous</td>\n",
       "      <td>2003</td>\n",
       "      <td>Maybe cause I'm eatin\\nAnd these bastards fien...</td>\n",
       "    </tr>\n",
       "    <tr>\n",
       "      <th>3</th>\n",
       "      <td>Down and Out</td>\n",
       "      <td>rap</td>\n",
       "      <td>Cam'ron</td>\n",
       "      <td>2004</td>\n",
       "      <td>[Produced by Kanye West and Brian Miller]\\n\\n[...</td>\n",
       "    </tr>\n",
       "    <tr>\n",
       "      <th>4</th>\n",
       "      <td>Fly In</td>\n",
       "      <td>rap</td>\n",
       "      <td>Lil Wayne</td>\n",
       "      <td>2005</td>\n",
       "      <td>[Intro]\\nSo they ask me\\n\"Young boy\\nWhat you ...</td>\n",
       "    </tr>\n",
       "    <tr>\n",
       "      <th>5</th>\n",
       "      <td>Lollipop Remix</td>\n",
       "      <td>rap</td>\n",
       "      <td>Lil Wayne</td>\n",
       "      <td>2008</td>\n",
       "      <td>[Intro: Lil Wayne]\\nHaha\\nUh-huh\\nNo homo (You...</td>\n",
       "    </tr>\n",
       "    <tr>\n",
       "      <th>6</th>\n",
       "      <td>Im Not You</td>\n",
       "      <td>rap</td>\n",
       "      <td>Clipse</td>\n",
       "      <td>2002</td>\n",
       "      <td>[Intro: Pusha T]\\nNo, no, no!\\nI told you, I l...</td>\n",
       "    </tr>\n",
       "    <tr>\n",
       "      <th>7</th>\n",
       "      <td>Family Ties</td>\n",
       "      <td>rap</td>\n",
       "      <td>Cam'ron</td>\n",
       "      <td>2004</td>\n",
       "      <td>[Verse 1: Cam'ron]\\nKilla, Dipset\\nMan I spit ...</td>\n",
       "    </tr>\n",
       "    <tr>\n",
       "      <th>8</th>\n",
       "      <td>Rockin and Rollin</td>\n",
       "      <td>rap</td>\n",
       "      <td>Cam'ron</td>\n",
       "      <td>1998</td>\n",
       "      <td>[Verse 1]\\nAy yo you wonder who I are\\nI guzzl...</td>\n",
       "    </tr>\n",
       "    <tr>\n",
       "      <th>9</th>\n",
       "      <td>Lord You Know</td>\n",
       "      <td>rap</td>\n",
       "      <td>Cam'ron</td>\n",
       "      <td>2004</td>\n",
       "      <td>[Chorus: Jaheim]\\nNow Lord you know, just how ...</td>\n",
       "    </tr>\n",
       "    <tr>\n",
       "      <th>10</th>\n",
       "      <td>Money On My Mind</td>\n",
       "      <td>rap</td>\n",
       "      <td>Lil Wayne</td>\n",
       "      <td>2005</td>\n",
       "      <td>[Intro]\\nYeah\\nMoney on my mind, money on my m...</td>\n",
       "    </tr>\n",
       "    <tr>\n",
       "      <th>11</th>\n",
       "      <td>Think Yall Know</td>\n",
       "      <td>rap</td>\n",
       "      <td>Fabolous</td>\n",
       "      <td>2003</td>\n",
       "      <td>[Verse 1]\\nYou ain't never seen a nigga this l...</td>\n",
       "    </tr>\n",
       "    <tr>\n",
       "      <th>12</th>\n",
       "      <td>DEvils</td>\n",
       "      <td>rap</td>\n",
       "      <td>JAY-Z</td>\n",
       "      <td>1996</td>\n",
       "      <td>[Produced by DJ Premier]\\n\\n[Hook Samples: Sno...</td>\n",
       "    </tr>\n",
       "    <tr>\n",
       "      <th>13</th>\n",
       "      <td>December 4th</td>\n",
       "      <td>rap</td>\n",
       "      <td>JAY-Z</td>\n",
       "      <td>2003</td>\n",
       "      <td>[Produced by Just Blaze]\\n\\n[Intro: Gloria Car...</td>\n",
       "    </tr>\n",
       "    <tr>\n",
       "      <th>14</th>\n",
       "      <td>98 Freestyle</td>\n",
       "      <td>rap</td>\n",
       "      <td>Big L</td>\n",
       "      <td>2000</td>\n",
       "      <td>[Verse 1]\\nYo, fuck all the glamours and glitz...</td>\n",
       "    </tr>\n",
       "    <tr>\n",
       "      <th>15</th>\n",
       "      <td>What Happened to That Boy?</td>\n",
       "      <td>rap</td>\n",
       "      <td>Birdman</td>\n",
       "      <td>2002</td>\n",
       "      <td>[Intro: Birdman]\\nAyy-ayy, ayy, ayy\\nYeah\\nTot...</td>\n",
       "    </tr>\n",
       "    <tr>\n",
       "      <th>16</th>\n",
       "      <td>Its Hot Some Like It Hot</td>\n",
       "      <td>rap</td>\n",
       "      <td>JAY-Z</td>\n",
       "      <td>1999</td>\n",
       "      <td>[Produced by Timbaland]\\n\\n[Verse 1]\\nYo, show...</td>\n",
       "    </tr>\n",
       "    <tr>\n",
       "      <th>17</th>\n",
       "      <td>Losing Weight Pt. 2</td>\n",
       "      <td>rap</td>\n",
       "      <td>Cam'ron</td>\n",
       "      <td>2002</td>\n",
       "      <td>[Chorus: Cam'ron]\\nAyo, fuck losing weight\\nI'...</td>\n",
       "    </tr>\n",
       "    <tr>\n",
       "      <th>18</th>\n",
       "      <td>Its Like That</td>\n",
       "      <td>rap</td>\n",
       "      <td>JAY-Z</td>\n",
       "      <td>1998</td>\n",
       "      <td>[Intro: Jay-Z, Kid Capri &amp; Both]\\nYeah, uh-huh...</td>\n",
       "    </tr>\n",
       "    <tr>\n",
       "      <th>19</th>\n",
       "      <td>More Gangsta Music</td>\n",
       "      <td>rap</td>\n",
       "      <td>Cam'ron</td>\n",
       "      <td>2004</td>\n",
       "      <td>[Intro: Juelz Santana]\\nGangsta Music, part tw...</td>\n",
       "    </tr>\n",
       "  </tbody>\n",
       "</table>\n",
       "</div>"
      ],
      "text/plain": [
       "                    track_name genre artist_name  release_date  \\\n",
       "0                    Killa Cam   rap     Cam'ron          2004   \n",
       "1                   Can I Live   rap       JAY-Z          1996   \n",
       "2            Forgive Me Father   rap    Fabolous          2003   \n",
       "3                 Down and Out   rap     Cam'ron          2004   \n",
       "4                       Fly In   rap   Lil Wayne          2005   \n",
       "5               Lollipop Remix   rap   Lil Wayne          2008   \n",
       "6                   Im Not You   rap      Clipse          2002   \n",
       "7                  Family Ties   rap     Cam'ron          2004   \n",
       "8            Rockin and Rollin   rap     Cam'ron          1998   \n",
       "9                Lord You Know   rap     Cam'ron          2004   \n",
       "10            Money On My Mind   rap   Lil Wayne          2005   \n",
       "11             Think Yall Know   rap    Fabolous          2003   \n",
       "12                      DEvils   rap       JAY-Z          1996   \n",
       "13                December 4th   rap       JAY-Z          2003   \n",
       "14                98 Freestyle   rap       Big L          2000   \n",
       "15  What Happened to That Boy?   rap     Birdman          2002   \n",
       "16    Its Hot Some Like It Hot   rap       JAY-Z          1999   \n",
       "17         Losing Weight Pt. 2   rap     Cam'ron          2002   \n",
       "18               Its Like That   rap       JAY-Z          1998   \n",
       "19          More Gangsta Music   rap     Cam'ron          2004   \n",
       "\n",
       "                                               lyrics  \n",
       "0   [Chorus: Opera Steve & Cam'ron]\\nKilla Cam, Ki...  \n",
       "1   [Produced by Irv Gotti]\\n\\n[Intro]\\nYeah, hah,...  \n",
       "2   Maybe cause I'm eatin\\nAnd these bastards fien...  \n",
       "3   [Produced by Kanye West and Brian Miller]\\n\\n[...  \n",
       "4   [Intro]\\nSo they ask me\\n\"Young boy\\nWhat you ...  \n",
       "5   [Intro: Lil Wayne]\\nHaha\\nUh-huh\\nNo homo (You...  \n",
       "6   [Intro: Pusha T]\\nNo, no, no!\\nI told you, I l...  \n",
       "7   [Verse 1: Cam'ron]\\nKilla, Dipset\\nMan I spit ...  \n",
       "8   [Verse 1]\\nAy yo you wonder who I are\\nI guzzl...  \n",
       "9   [Chorus: Jaheim]\\nNow Lord you know, just how ...  \n",
       "10  [Intro]\\nYeah\\nMoney on my mind, money on my m...  \n",
       "11  [Verse 1]\\nYou ain't never seen a nigga this l...  \n",
       "12  [Produced by DJ Premier]\\n\\n[Hook Samples: Sno...  \n",
       "13  [Produced by Just Blaze]\\n\\n[Intro: Gloria Car...  \n",
       "14  [Verse 1]\\nYo, fuck all the glamours and glitz...  \n",
       "15  [Intro: Birdman]\\nAyy-ayy, ayy, ayy\\nYeah\\nTot...  \n",
       "16  [Produced by Timbaland]\\n\\n[Verse 1]\\nYo, show...  \n",
       "17  [Chorus: Cam'ron]\\nAyo, fuck losing weight\\nI'...  \n",
       "18  [Intro: Jay-Z, Kid Capri & Both]\\nYeah, uh-huh...  \n",
       "19  [Intro: Juelz Santana]\\nGangsta Music, part tw...  "
      ]
     },
     "execution_count": 15,
     "metadata": {},
     "output_type": "execute_result"
    }
   ],
   "source": [
    "rap_df_cleaned.head(20)"
   ]
  },
  {
   "cell_type": "code",
   "execution_count": 16,
   "metadata": {},
   "outputs": [
    {
     "data": {
      "text/plain": [
       "1724722"
      ]
     },
     "execution_count": 16,
     "metadata": {},
     "output_type": "execute_result"
    }
   ],
   "source": [
    "len(rap_df_cleaned)"
   ]
  },
  {
   "cell_type": "code",
   "execution_count": 17,
   "metadata": {},
   "outputs": [
    {
     "data": {
      "text/html": [
       "<div>\n",
       "<style scoped>\n",
       "    .dataframe tbody tr th:only-of-type {\n",
       "        vertical-align: middle;\n",
       "    }\n",
       "\n",
       "    .dataframe tbody tr th {\n",
       "        vertical-align: top;\n",
       "    }\n",
       "\n",
       "    .dataframe thead th {\n",
       "        text-align: right;\n",
       "    }\n",
       "</style>\n",
       "<table border=\"1\" class=\"dataframe\">\n",
       "  <thead>\n",
       "    <tr style=\"text-align: right;\">\n",
       "      <th></th>\n",
       "      <th>artist_name</th>\n",
       "      <th>track_name</th>\n",
       "      <th>release_date</th>\n",
       "      <th>genre</th>\n",
       "      <th>lyrics</th>\n",
       "    </tr>\n",
       "  </thead>\n",
       "  <tbody>\n",
       "    <tr>\n",
       "      <th>0</th>\n",
       "      <td>Cam'ron</td>\n",
       "      <td>Killa Cam</td>\n",
       "      <td>2004</td>\n",
       "      <td>rap</td>\n",
       "      <td>[Chorus: Opera Steve &amp; Cam'ron]\\nKilla Cam, Ki...</td>\n",
       "    </tr>\n",
       "    <tr>\n",
       "      <th>1</th>\n",
       "      <td>JAY-Z</td>\n",
       "      <td>Can I Live</td>\n",
       "      <td>1996</td>\n",
       "      <td>rap</td>\n",
       "      <td>[Produced by Irv Gotti]\\n\\n[Intro]\\nYeah, hah,...</td>\n",
       "    </tr>\n",
       "    <tr>\n",
       "      <th>2</th>\n",
       "      <td>Fabolous</td>\n",
       "      <td>Forgive Me Father</td>\n",
       "      <td>2003</td>\n",
       "      <td>rap</td>\n",
       "      <td>Maybe cause I'm eatin\\nAnd these bastards fien...</td>\n",
       "    </tr>\n",
       "    <tr>\n",
       "      <th>3</th>\n",
       "      <td>Cam'ron</td>\n",
       "      <td>Down and Out</td>\n",
       "      <td>2004</td>\n",
       "      <td>rap</td>\n",
       "      <td>[Produced by Kanye West and Brian Miller]\\n\\n[...</td>\n",
       "    </tr>\n",
       "    <tr>\n",
       "      <th>4</th>\n",
       "      <td>Lil Wayne</td>\n",
       "      <td>Fly In</td>\n",
       "      <td>2005</td>\n",
       "      <td>rap</td>\n",
       "      <td>[Intro]\\nSo they ask me\\n\"Young boy\\nWhat you ...</td>\n",
       "    </tr>\n",
       "  </tbody>\n",
       "</table>\n",
       "</div>"
      ],
      "text/plain": [
       "  artist_name         track_name  release_date genre  \\\n",
       "0     Cam'ron          Killa Cam          2004   rap   \n",
       "1       JAY-Z         Can I Live          1996   rap   \n",
       "2    Fabolous  Forgive Me Father          2003   rap   \n",
       "3     Cam'ron       Down and Out          2004   rap   \n",
       "4   Lil Wayne             Fly In          2005   rap   \n",
       "\n",
       "                                              lyrics  \n",
       "0  [Chorus: Opera Steve & Cam'ron]\\nKilla Cam, Ki...  \n",
       "1  [Produced by Irv Gotti]\\n\\n[Intro]\\nYeah, hah,...  \n",
       "2  Maybe cause I'm eatin\\nAnd these bastards fien...  \n",
       "3  [Produced by Kanye West and Brian Miller]\\n\\n[...  \n",
       "4  [Intro]\\nSo they ask me\\n\"Young boy\\nWhat you ...  "
      ]
     },
     "execution_count": 17,
     "metadata": {},
     "output_type": "execute_result"
    }
   ],
   "source": [
    "# Define the desired order of columns\n",
    "desired_order = ['artist_name', 'track_name', 'release_date', 'genre',  'lyrics']\n",
    "\n",
    "# Reorder the columns\n",
    "Final_rap_data = rap_df_cleaned[desired_order]\n",
    "\n",
    "Final_rap_data.head()"
   ]
  },
  {
   "cell_type": "code",
   "execution_count": 18,
   "metadata": {},
   "outputs": [
    {
     "name": "stdout",
     "output_type": "stream",
     "text": [
      "First 5 values of the 'lyrics' column:\n",
      "0                       [Chorus: Opera Steve & Cam'ron]\\nKilla Cam, Killa Cam, Cam\\nKilla Cam, Killa Cam\\nKilla Cam, Cam\\nKilla Cam, Killa Cam, Cam\\nKilla Killa Killa Cam\\nKilla Cam, Cam, Killa (Killa!)\\nKilla Cam, Killa Cam, Cam (Bases loaded)\\nKilla Cam, Killa Cam (Uh-huh)\\nKilla Cam, Cam (Santana on second, Jim on third)\\nKilla Cam, Killa Cam, Cam (I'm at bat)\\nKilla Killa Killa Cam\\nKilla Cam, Cam, Killa (I'm 'bout to hit this shit out the world)\\nKilla Cam (Ugh, Heatmakerz), Killa Cam, Cam\\nKilla Cam, Killa Cam\\nKilla Cam, Cam (Hahahaha)\\nKilla Cam, Killa Cam, Cam\\nKilla Killa Killa Cam\\nKilla Cam, Cam, Killa (We  make this shit clap)\\nKilla Cam, Killa Cam, Cam\\nKilla Cam, Killa Cam\\nKilla Cam, Cam\\nKilla Cam, Killa Cam, Cam\\nKilla Killa Killa Cam (Killa! Killa!)\\nKilla Cam, Cam, Killa\\n[Verse 1]\\nWith the goons I spar, stay in tune with ma (What up?)\\nShe like, \"Damn, this the realest since 'Kumbaya'\"\\nBomaye, Killa Cam, my Lord (My Lord)\\nStill the man with the pan, scrilla, fam, on board\\nNow bitches, they want to neuter me, niggas, they want to tutor me\\nThe hooligan in Houlihan's, maneuvering's nothing new to me\\nDoggy, I'm from the land of grind, pan-pan: gram or dime?\\nNot toes or MC when I say \"hammer time\"\\nBeef: I hammer mine, when I get my hands on nines\\nIf I had on 'Bama line, Corduroys, Cam'll shine\\nCanary burgundy: I call it \"Lemon Red\" (Red)\\nYellow diamonds in my ear, call 'em \"Lemonheads\"\\nLemonhead, end up dead, ice like Winnipeg\\nGemstone, Flintstones, you could say I'm friends with Fred\\nYou unhappy, scrappy? (What's going on, Scrappy?)\\nI got Pataki at me\\nBitches say I'm \"Tacky Daddy,\" Range look like Laffy Taffy\\n\\n[Chorus]\\nKilla Cam\\nKilla Cam Cam (sing)\\nKilla Cam Killa Cam\\nKilla Cam Cam (uhh, it's me, clap)\\nKilla Cam\\nKilla Cam Cam\\nKilla Killa Killa Cam (sing)\\nKilla Cam Cam Killa (uhh, it's me, clap)\\nKilla Cam\\nKilla Cam Cam (sing)\\nKilla Cam Killa Cam\\nKilla Cam Cam (clap, it's me)\\nKilla Cam\\nKilla Cam Cam\\nKilla Killa Killa Cam (clap)\\n(Harlem, I know y'all know about this)\\nKilla Cam Cam Killa (Killa!)\\n[Verse 2]\\nYo, I'm from where Nicky Barnes got rich as fuck\\nRich and A hit the kitchens then were pitchin' up\\nRob Base, Mase, Doug E Fresh switched it up\\nI do both, who am I to fuck tradition up? (Killa!)\\nSo I parked in a tow-away zone\\nChrome...I don't care\\nThat car a throwaway, homes (Killa!)\\nWelcome to Harlem, where you welcome to problems\\nOff of furlough, fellow felons get pardons\\nThem niggas knew we bang\\nStood out like Pootie Tang\\nSoon as the stoolie sings\\nThat when the toolie sing!\\nBang! Bang!\\nCame from that movie ring\\nSnap, crack jewelry bling\\nFlapjack, ooh he bring\\nClack-clack, \"ooh he ring!\"\\nBad rap, cuties cling\\nAss cap, put them in the river\\nI'm the sushi king\\nAnd I'ma keep ya fresh\\nLet the fish eat ya flesh\\nYes sir, please confess\\nJust say he's the best (Killa!)\\n[Chorus]\\nKilla Cam (sing)\\nKilla Cam Cam (clap)\\nKilla Cam Killa Cam (yes)\\nKilla Cam Cam (it's me, sing)\\nKilla Cam\\nKilla Cam Cam (sing)\\nKilla Killa Killa Cam\\nKilla Cam Cam Killa  (clap, yes sir, uhh)\\nKilla Cam\\nKilla Cam Cam (sing, clap)\\nKilla Cam Killa Cam\\nKilla Cam Cam (it's me)\\nKilla Cam (sing, clap)\\nKilla Cam Cam\\nKilla Killa Killa Cam\\n(Let me end this shit, listen)\\nKilla Cam Cam Killa\\n\\n[Verse 3]\\n(Killa!) Yo\\nHow dope is this?\\nTeach you how to rope a chick\\nWhat you want: coke or piff?\\nGot it all, smoke or sniff? (everything)\\nAnd you know my drift\\nUsed to figures, dough and shit (millions)\\nYou a rooster nigga, just a roaster, bitch\\nAnd I roast ya bitch\\nThat's how it usually ends\\nTell her and her groupie friends\\nGo get their coochie cleansed\\nWe the moody Gucci, Louis and Pucci men\\nEscada, Prada\\nThe chopper it got the Uzi lens\\nBird's-eye view\\nThe birds I knew flip birds\\nBird gangs, it was birds I flew\\nAnd word I blew off herb I grew\\nI would serve on stoops\\nNow swerve in coupes\\nIt's me, sing! Killa, uhh\\n\\n[Chorus]\\nKilla Cam\\nKilla Cam Cam\\nKilla Cam Killa Cam\\nKilla Cam Cam\\nKilla Cam\\nKilla Cam Cam\\nKilla Killa Killa Cam\\nKilla Cam Cam Killa\\nKilla Cam\\nKilla Cam Cam\\nKilla Cam Killa Cam\\nKilla Cam Cam\\nKilla Cam\\nKilla Cam Cam\\nKilla Killa Killa Cam\\nKilla Cam Cam Killa\n",
      "1                                                                                                                                                                                                                                                                                                                                                                                                                                                                                                                                                                                                                                                                                                                                                                                                                                                                                                                                                                                                                                                                                                                                                                                                                                            [Produced by Irv Gotti]\\n\\n[Intro]\\nYeah, hah, yeah, Roc-A-Fella\\nWe invite you to somethin' epic, you know?\\nWell, we hustle out of a sense of hopelessness\\nSort of a desperation\\nThrough that desperation, we become addicted\\nSort of like the fiends we accustomed to servin'\\nBut we feel we have nothin' to lose\\nSo, we offer you, well, we offer our lives, right?\\nWhat do you bring to the table?\\n\\n[Verse 1]\\nWhile I'm watchin' every nigga watchin' me closely\\nMy shit is butter for the bread, they wanna toast me\\nI keep my head, both of them, where they supposed to be\\nHoes'll get you sidetracked, then clapped from close feet\\nI don't sleep, I'm tired, I feel wired like codeine, these days\\nA brother gotta admire me from four fiends away\\nMy pain, wish it was quick to see\\nFrom sellin' 'caine 'til brains was fried to a fricassee\\nCan't lie, at the time it never bothered me\\nAt the bar, gettin' my thug on properly\\nMy squad and me lack of respect for authority\\nLaughin' hard, happy to be escapin' poverty, however brief\\nI know this game got valleys and peaks\\nExpectation for dips, for precipitation we stack chips, hardly\\nThe youth I used to be, soon to see a mill'in\\nNo more Big Willie, my game has grown\\nPrefer you call me William\\nIllin' for revenues, Rayful Edmond-like\\nChannel 7 News, round seven jewels, head dead in the mic\\nForgettin' all I ever knew, convenient amnesia\\n\"I suggest you call my lawyer, I know the procedure.\"\\nLock my body, can't trap my mind\\nEasily explain why we adapt to crime\\nI'd rather die enormous than live dormant, that's how we on it\\nLive at the main event, I bet a trip to Maui on it\\nPresidential suites my residential for the weekend\\nConfidentially speakin' in codes since I sense you peekin'\\nThe NSX rental, don't be fooled, my game is mental\\nWe both out of town, dog, what you tryin' to get into?\\nViva Las Vegas, see ya later at the crap tables\\nMeet me by the one that starts a G up\\nThis way no Fraud Willies present gamblin' they re-up\\nAnd we can have a pleasant time, sippin' margaritas\\n[Chorus]\\nGe-ge-geyeahhh\\nCan I live?\\nCan I live?\\n\\n[Verse 2]\\nMy mind is infested with sick thoughts that circle\\nLike a Lexus, if driven wrong it's sure to hurt you\\nDual level like duplexes, in unity\\nMy crew and me commit atrocities like we got immunity\\nYou guessed it, manifest it\\nIn tangible goods, platinum Rolex'd it\\nWe don't lease, we buy the whole car, as you should\\nMy confederation, dead a nation\\nExplode on detonation, overload the mind of a said patient\\nWhen it boils to steam, it comes to it\\nWe all fiends, gotta do it: even righteous minds go through this\\nTrue this, the streets school us to spend our money foolish\\nBond with jewelers and watch for intruders\\nI stepped it up another level, meditated like a Buddhist\\nRecruited lieutenants with ludicrous dreams of gettin' cream\\n\"Let's do this,\" it gets tedious\\nSo I keep one eye open like CBS — you see me stressed, right?\\n\\n[Chorus]\\nCan I live?\\nCan I live?\\nCan I live?\\nCan I live?\n",
      "2                                                                                                                                                                                                                                                                                                                                                                                                                                                                                                                                                                                                                                                                                                                                                                                                                                                                                                                                                                                                                                                                                                                                                                                                                                                                                                                                                                       Maybe cause I'm eatin\\nAnd these bastards fiend for they grub\\nI carry pumps like I serve gasoline to these scrubs\\nHave you seen my Aston leanin on dubs\\nAnd they can't afford chrome so they puttin Vaseline on they hubs\\nI'm lookin for a girl with a ass like Trina to rub\\nTake home and let her watch the plasma screen in the tub\\nThese niggas hate I move as smooth as castor cream in the club\\nAnd dont pass my green or my bub\\nBut I'm a fly nigga that don't do much to pull her and dick her\\nEveryday I'm poppin a tag and pullin a sticker\\nEveryday I'm switchin the tags and pullin up sicker\\nEvery \"K\" I'm loadin the mags with bullets to flicker\\nAnd I ain't hesitatin homie I'm pullin it quicker\\nSo you can act tough After a few pulls of some liquor\\nGotta pull it on niggas\\nAnd they won't be goin nowhere for a while\\nThey might as well pull out a snicker Ye-Ye-Yea\\n\\n[Hook]\\nForgive me father for I have sinned\\nBut look at all this money that I spend\\nAnd look at all this jewlery that I'm in\\nAnd look at all the places that I've been\\nAnd look at all the women in those brims\\nLook at the blue flames that I'm in\\nI look at all the bullshit that theres been\\nAnd if I had another chance I'd do it again\\n[Verse 2]\\nAnywhere the kid move you know the hammers'll be with me\\nPokin out the shirt like a Pamela Lee titty\\nI went on tour brought the samples of D wit me\\nCame back a month later bought a Lambo for three-fifty\\nThink I throw you grams if you read with me\\nJust because you see me on the camera with P. Diddy\\nDammit we P-driddy?? Now I got G with me\\nAlong with the third leg that I be rammin in these bitties\\nI keep the revolver you hope my gun'll jam\\nBut with the scope its gonna blam\\nThe infra put freckles on your face like Opie Cunningham\\nThats why I'm watched by the Feds and scoped by Uncle Sam\\nDope and hunn-ed (hundred) grams rope and hunn-ed grams\\nAt the same time an artist get to open Summer Jam\\nHope you understand or use better sense\\nThese niggas dont want no beef they want lawsuit settlements Nigga!\\n\\n[Hook]\\n\\n[Verse 3]\\nI'm in a waggy when I'm passin by ya\\nWith a baby girl who suck harder than Maggie on a pacifier\\nWhat I'm smokin'll have you aggie as your last supplier\\nWhen you can smell it through the baggie you know that's some fire\\nGettin stressed by these hotties is regular\\nI got a magazine to press to your body like editors\\nTest me somebody I'm beggin ya\\nI got the gatling gun like Jesse The Body in Predator\\nI'm a hustler I dont sling no rocks to the fiends now\\nGot dudes who sit on corners like a boxer between rounds\\nAny other dude who dish rocks want beef\\nCause I chop dimes bigger than Chris Rock front teeth\\nI'm the nigga tearin the walls up in your miss in exchange for a small cup\\nOf the Cris\\nAnd while you at probation fillin a small cup full of piss\\nI'm in a coupe with a roof that ball up like a fist (Catch up!)\n",
      "3    [Produced by Kanye West and Brian Miller]\\n\\n[Intro: Cam'ron & Kanye West]\\nUgh, Killa!\\nBaby!\\nKanye, this that 1970s Heron flow, huh?\\nYeah, let's speed it up\\nUgh, I'm back in, ugh, ugh\\nThey don't know we finna kill the game this year\\nKilla! 'Ye! C'mon!\\n\\n[Verse 1: Cam'ron]\\nAyo, street mergers, I legislated; the nerve, I never hated\\nOn murders, premeditated—absurd! I hesitated\\nObserve: cock and spray, hit you from a block away\\nDrinking sake on a Suzuki; we in Osaka Bay\\nPlaying soccer, stupid, stay in a sucker's place\\nPluck your ace, take your girl, fuck her face\\nShe dealing with Killa, so you love her taste\\nShe swallowing Killa 'cause she love the taste\\nI got brought up with crooking, kitchen orders that I'm cooking\\nBut got caught up with the juxes\\nYou would've thought I was from Brooklyn\\nIt gets boring just looking\\nDid like Bill Cosby, pouring in the pudding\\nNow, the dashboard is wooden from a hard-tangled grammar\\nInterior, inferior; Star-Spangled Banner\\nCar game bananas, mob manning tanners\\nGuns everywhere, like the car came with hammers, he's back\\n[Chorus: Kanye West & (Syleena Johnson)]\\nThey trying to say he (I'm down, down)\\nI hear niggas saying he (I'm down, but not out)\\nBut our flow is the truest (Oh), the game's in the nooses (No no)\\nOur girls is the models (Oh), they coochies the juiciest (Ooooh)\\nYeah, they say he (I'm down, down)\\nYeah, they say he (I'm down, but not out)\\n'Cause I'm back on my grind (Oh), money back on my mind (No no)\\nYe and Killa Cam, the world is mine (Oooh)\\n\\n[Verse 2: Cam'ron]\\nI treat bitches straight up, like Simon Says\\nOpen vagina; put your legs behind your head\\nCop me Air Ones, hon, lime and red\\nYou got pets? Me too: mines are dead, doggy\\nFox, minks, gators, that's necessary\\nAccessories, my closet's Pet Sematary\\nI get approached by animal activists\\nI live in a zoo, I run scandals with savages\\nAll my niggas get together to gather loot\\nBodyguard for what? Dog, I'd rather shoot\\nI go to war, old Timbs, battered boots\\nHand grenade, goggles and a parachute\\nY'all don't even know the name of my flip\\nIt was \"Touch Me, Tease Me\" when Case was the shit\\nYou don't know bout the cases I get:\\nCourt case, briefcase, suitcase, cases of Cris', oww!\\n[Chorus: Kanye West & (Syleena Johnson)]\\nThey trying to say he (I'm down, down)\\nI hear niggas saying he (I'm down, but not out)\\nBut our flow is the truest (Oh), the game's in the nooses (No no)\\nOur girls is the models (Oh), they coochies the juiciest (Ooooh)\\nYeah, they say he (I'm down, down)\\nYeah, they say he (I'm down, but not out)\\n'Cause I'm back on my grind (Oh), money back on my mind (No no)\\nYe and Killa Cam, the world is mine (Oooh)\\n\\n[Verse 3: Cam'ron]\\nUgh, Killa, yo, yo, ayo—\\nYou dealing with some sure shit, my bitches pure thick\\nPlay razor tag, slice your face, you're it!\\nIt's I who come by, drive-thru\\nGator-toed Mauri, three quarters, sky-blue\\nLook at mami: eyes blue, 5'2''\\nI approached her—\"Hi, boo, how you?\\nPony skin Louie? Oh, you fly too\\nYou a stewardess? Good, ma—I fly too\"\\nNow, a nigga got baking to bake\\nHarlem shake? Nah, I'm in Harlem shaking the weight\\nShaking to bake, shaking the Jakes\\nKill you, shoot the funeral up and Harlem Shake at your wake\\nJust your picture, though; you still taped in a lake\\nI'm laughing; you couldn't wait to escape\\nFor anyone who owed the dough, I had to load the four\\nI hope a nigga heard when I said \"I told you so\"\\nUgh, Killa!\\n[Chorus: Kanye West & (Syleena Johnson)]\\nThey trying to say he (I'm down, down)\\nI hear niggas saying he (I'm down, but not out)\\nBut our flow is the truest (Oh), the game's in the nooses (No no)\\nOur girls is the models (Oh), they coochies the juiciest (Ooooh)\\nYeah, they say he (I'm down, down)\\nYeah, they say he (I'm down, but not out)\\n'Cause I'm back on my grind (Oh), money back on my mind (No no)\\nYe and Killa Cam, the world is mine (Oooh)\\n\\n[Outro: Cam'ron]\\nMine! Killa!\\nYou already know Harlem\\nWhole Midwest, Detroit, Naptown, St. Louis\\nChicago, of course\\nWestside, holla at me\\nSouthside, wild hundreds\\nYou know what it is, Ohio\\nColumbus, holla at your boy\\nYou know what else I do:\\nDayton, Youngstown, Cleveland, Cincinnati\n",
      "4                                                                                                                                                                                                                                                                                                                                                                                                                                                                                                                                                                                                                                                                                                                                                                                                                                                                                                                                                                                                                                                                                                                                                                                                                                                                                                                                                                                                                                                                                                                                                                                                                                                                                                                                                                                                                                                                                                                                                                                                                                                                                      [Intro]\\nSo they ask me\\n\"Young boy\\nWhat you gon' do the second time around?\\nHow you gon' come back?\"\\nI tried told 'em\\n\"I come back like 32\\nI jump back like 33\"\\nUgh, hit me\\nThat's nothing\\nThis is Tha Carter II, people\\nThis is Tha Carter II, people\\nHey\\n\\n[Verse]\\nThey call me Mr. Carter, I kissed the daughter\\nOf the dead's forehead, I killed the father\\nSpilled the heart of a mildew hater\\nI will put them body on chill like glaciers, gracias\\nI'm crazy, yes, it's obvious\\nGoing against me is atheist\\nI got my angels on my shoulder and a quarter of that angel dust\\nI ain't sniffing, I'm just pitching, your honor\\nI ain't snitching, your honor\\nHate bitch niggas, bitches with power\\nVacate when that kitchen get hotter\\nI just sit on the counter\\nOpen the cabinet, close the cupboard\\nPut that jar in the skillet, drop a four in the bubbles\\nI remember being young, tryna hustle my dope\\nTryna tell the old junkies that my crack ain't soap\\nTryna tell you 'fore you jump that my MAC ain't broke\\nYou ain't tryna see how far that black back lane go, no\\nCall me Pac-Man, your ghost is blue\\nI got my Red River rubies and my ocean blue jewelry\\nUsually I'm a hooligan for the money\\nYeah, I'm eating, but I got a tapeworm in my tummy, oh\\nMake harm and I bomb you in public\\nHit you with the straight-arm, no warning, nothing\\nLook, it's morning, no yawning or nothing\\nI ain't sleeping, I'm up tryna take a nigga lunch\\nYou gon' make a nigga break a nigga fronts\\nThen shake a nigga shorts and we taking what we want\\nI'm so 504, you got to kill me here\\nIf you ever looking for me, bitch, I will be here\\nCash Money is an army, Navy Seal me here\\nLot of niggas ran from me, but I still be here\\nNo chrome on the Continental, I'm so fundamental\\nCrack the Phil', crack the roof, and roll up the windows\\nAnd my hood love me, they tell me bring it home\\nThat's why I holler Hollygrove on each and every song\\nYou leaping at a dog, a dog with no bark\\nJust a bite like an old shark\\nAnd all you rich niggas know Pa, I'm talking 'bout Stunna\\nHe like, \"Keep your dough,\" he got your ho\\nAnd the sun shines on the king and sets on the prince\\nI met the Birdman and I been shining ever since, like that\n",
      "Name: lyrics, dtype: object\n"
     ]
    }
   ],
   "source": [
    "\n",
    "# Set display options to show full text in the 'lyrics' column\n",
    "pd.set_option('display.max_colwidth', None)\n",
    "\n",
    "# View the first 5 values of the 'lyrics' column\n",
    "first_5_lyrics = Final_rap_data['lyrics'].head()\n",
    "\n",
    "# Display the first 5 values of the 'lyrics' column\n",
    "print(\"First 5 values of the 'lyrics' column:\")\n",
    "print(first_5_lyrics)"
   ]
  },
  {
   "cell_type": "code",
   "execution_count": 19,
   "metadata": {},
   "outputs": [
    {
     "name": "stdout",
     "output_type": "stream",
     "text": [
      "  artist_name         track_name  release_date genre  \\\n",
      "0     Cam'ron          Killa Cam          2004   rap   \n",
      "1       JAY-Z         Can I Live          1996   rap   \n",
      "2    Fabolous  Forgive Me Father          2003   rap   \n",
      "3     Cam'ron       Down and Out          2004   rap   \n",
      "4   Lil Wayne             Fly In          2005   rap   \n",
      "\n",
      "                                                                                                                                                                                                                                                                                                                                                                                                                                                                                                                                                                                                                                                                                                                                                                                                                                                                                                                                                                                                                                                                                                                                                                                                                                                                                                                                                                                                                                                                                                                                                                                                                                                                                                                                                                                                                                                                                                                                                                                                                                                                                                                                                                                                                                                                                                                                                                                                                                                                                                                                                                                                                                                                                                                                                                                                                                                                                                                                                                                                                                                                                                                                                                                                                                                                                                                                                                                                                                                                                                                                                                                                                                                                                                                                                                                                                                                                                                                                                                                                                                                                                                                                                                                                                                                                                                                                                                                     lyrics  \n",
      "0                     [Chorus: Opera Steve & Cam'ron]\\nKilla Cam, Killa Cam, Cam\\nKilla Cam, Killa Cam\\nKilla Cam, Cam\\nKilla Cam, Killa Cam, Cam\\nKilla Killa Killa Cam\\nKilla Cam, Cam, Killa (Killa!)\\nKilla Cam, Killa Cam, Cam (Bases loaded)\\nKilla Cam, Killa Cam (Uh-huh)\\nKilla Cam, Cam (Santana on second, Jim on third)\\nKilla Cam, Killa Cam, Cam (I'm at bat)\\nKilla Killa Killa Cam\\nKilla Cam, Cam, Killa (I'm 'bout to hit this shit out the world)\\nKilla Cam (Ugh, Heatmakerz), Killa Cam, Cam\\nKilla Cam, Killa Cam\\nKilla Cam, Cam (Hahahaha)\\nKilla Cam, Killa Cam, Cam\\nKilla Killa Killa Cam\\nKilla Cam, Cam, Killa (We  make this shit clap)\\nKilla Cam, Killa Cam, Cam\\nKilla Cam, Killa Cam\\nKilla Cam, Cam\\nKilla Cam, Killa Cam, Cam\\nKilla Killa Killa Cam (Killa! Killa!)\\nKilla Cam, Cam, Killa\\n[Verse 1]\\nWith the goons I spar, stay in tune with ma (What up?)\\nShe like, \"Damn, this the realest since 'Kumbaya'\"\\nBomaye, Killa Cam, my Lord (My Lord)\\nStill the man with the pan, scrilla, fam, on board\\nNow bitches, they want to neuter me, niggas, they want to tutor me\\nThe hooligan in Houlihan's, maneuvering's nothing new to me\\nDoggy, I'm from the land of grind, pan-pan: gram or dime?\\nNot toes or MC when I say \"hammer time\"\\nBeef: I hammer mine, when I get my hands on nines\\nIf I had on 'Bama line, Corduroys, Cam'll shine\\nCanary burgundy: I call it \"Lemon Red\" (Red)\\nYellow diamonds in my ear, call 'em \"Lemonheads\"\\nLemonhead, end up dead, ice like Winnipeg\\nGemstone, Flintstones, you could say I'm friends with Fred\\nYou unhappy, scrappy? (What's going on, Scrappy?)\\nI got Pataki at me\\nBitches say I'm \"Tacky Daddy,\" Range look like Laffy Taffy\\n\\n[Chorus]\\nKilla Cam\\nKilla Cam Cam (sing)\\nKilla Cam Killa Cam\\nKilla Cam Cam (uhh, it's me, clap)\\nKilla Cam\\nKilla Cam Cam\\nKilla Killa Killa Cam (sing)\\nKilla Cam Cam Killa (uhh, it's me, clap)\\nKilla Cam\\nKilla Cam Cam (sing)\\nKilla Cam Killa Cam\\nKilla Cam Cam (clap, it's me)\\nKilla Cam\\nKilla Cam Cam\\nKilla Killa Killa Cam (clap)\\n(Harlem, I know y'all know about this)\\nKilla Cam Cam Killa (Killa!)\\n[Verse 2]\\nYo, I'm from where Nicky Barnes got rich as fuck\\nRich and A hit the kitchens then were pitchin' up\\nRob Base, Mase, Doug E Fresh switched it up\\nI do both, who am I to fuck tradition up? (Killa!)\\nSo I parked in a tow-away zone\\nChrome...I don't care\\nThat car a throwaway, homes (Killa!)\\nWelcome to Harlem, where you welcome to problems\\nOff of furlough, fellow felons get pardons\\nThem niggas knew we bang\\nStood out like Pootie Tang\\nSoon as the stoolie sings\\nThat when the toolie sing!\\nBang! Bang!\\nCame from that movie ring\\nSnap, crack jewelry bling\\nFlapjack, ooh he bring\\nClack-clack, \"ooh he ring!\"\\nBad rap, cuties cling\\nAss cap, put them in the river\\nI'm the sushi king\\nAnd I'ma keep ya fresh\\nLet the fish eat ya flesh\\nYes sir, please confess\\nJust say he's the best (Killa!)\\n[Chorus]\\nKilla Cam (sing)\\nKilla Cam Cam (clap)\\nKilla Cam Killa Cam (yes)\\nKilla Cam Cam (it's me, sing)\\nKilla Cam\\nKilla Cam Cam (sing)\\nKilla Killa Killa Cam\\nKilla Cam Cam Killa  (clap, yes sir, uhh)\\nKilla Cam\\nKilla Cam Cam (sing, clap)\\nKilla Cam Killa Cam\\nKilla Cam Cam (it's me)\\nKilla Cam (sing, clap)\\nKilla Cam Cam\\nKilla Killa Killa Cam\\n(Let me end this shit, listen)\\nKilla Cam Cam Killa\\n\\n[Verse 3]\\n(Killa!) Yo\\nHow dope is this?\\nTeach you how to rope a chick\\nWhat you want: coke or piff?\\nGot it all, smoke or sniff? (everything)\\nAnd you know my drift\\nUsed to figures, dough and shit (millions)\\nYou a rooster nigga, just a roaster, bitch\\nAnd I roast ya bitch\\nThat's how it usually ends\\nTell her and her groupie friends\\nGo get their coochie cleansed\\nWe the moody Gucci, Louis and Pucci men\\nEscada, Prada\\nThe chopper it got the Uzi lens\\nBird's-eye view\\nThe birds I knew flip birds\\nBird gangs, it was birds I flew\\nAnd word I blew off herb I grew\\nI would serve on stoops\\nNow swerve in coupes\\nIt's me, sing! Killa, uhh\\n\\n[Chorus]\\nKilla Cam\\nKilla Cam Cam\\nKilla Cam Killa Cam\\nKilla Cam Cam\\nKilla Cam\\nKilla Cam Cam\\nKilla Killa Killa Cam\\nKilla Cam Cam Killa\\nKilla Cam\\nKilla Cam Cam\\nKilla Cam Killa Cam\\nKilla Cam Cam\\nKilla Cam\\nKilla Cam Cam\\nKilla Killa Killa Cam\\nKilla Cam Cam Killa  \n",
      "1                                                                                                                                                                                                                                                                                                                                                                                                                                                                                                                                                                                                                                                                                                                                                                                                                                                                                                                                                                                                                                                                                                                                                                                                                                          [Produced by Irv Gotti]\\n\\n[Intro]\\nYeah, hah, yeah, Roc-A-Fella\\nWe invite you to somethin' epic, you know?\\nWell, we hustle out of a sense of hopelessness\\nSort of a desperation\\nThrough that desperation, we become addicted\\nSort of like the fiends we accustomed to servin'\\nBut we feel we have nothin' to lose\\nSo, we offer you, well, we offer our lives, right?\\nWhat do you bring to the table?\\n\\n[Verse 1]\\nWhile I'm watchin' every nigga watchin' me closely\\nMy shit is butter for the bread, they wanna toast me\\nI keep my head, both of them, where they supposed to be\\nHoes'll get you sidetracked, then clapped from close feet\\nI don't sleep, I'm tired, I feel wired like codeine, these days\\nA brother gotta admire me from four fiends away\\nMy pain, wish it was quick to see\\nFrom sellin' 'caine 'til brains was fried to a fricassee\\nCan't lie, at the time it never bothered me\\nAt the bar, gettin' my thug on properly\\nMy squad and me lack of respect for authority\\nLaughin' hard, happy to be escapin' poverty, however brief\\nI know this game got valleys and peaks\\nExpectation for dips, for precipitation we stack chips, hardly\\nThe youth I used to be, soon to see a mill'in\\nNo more Big Willie, my game has grown\\nPrefer you call me William\\nIllin' for revenues, Rayful Edmond-like\\nChannel 7 News, round seven jewels, head dead in the mic\\nForgettin' all I ever knew, convenient amnesia\\n\"I suggest you call my lawyer, I know the procedure.\"\\nLock my body, can't trap my mind\\nEasily explain why we adapt to crime\\nI'd rather die enormous than live dormant, that's how we on it\\nLive at the main event, I bet a trip to Maui on it\\nPresidential suites my residential for the weekend\\nConfidentially speakin' in codes since I sense you peekin'\\nThe NSX rental, don't be fooled, my game is mental\\nWe both out of town, dog, what you tryin' to get into?\\nViva Las Vegas, see ya later at the crap tables\\nMeet me by the one that starts a G up\\nThis way no Fraud Willies present gamblin' they re-up\\nAnd we can have a pleasant time, sippin' margaritas\\n[Chorus]\\nGe-ge-geyeahhh\\nCan I live?\\nCan I live?\\n\\n[Verse 2]\\nMy mind is infested with sick thoughts that circle\\nLike a Lexus, if driven wrong it's sure to hurt you\\nDual level like duplexes, in unity\\nMy crew and me commit atrocities like we got immunity\\nYou guessed it, manifest it\\nIn tangible goods, platinum Rolex'd it\\nWe don't lease, we buy the whole car, as you should\\nMy confederation, dead a nation\\nExplode on detonation, overload the mind of a said patient\\nWhen it boils to steam, it comes to it\\nWe all fiends, gotta do it: even righteous minds go through this\\nTrue this, the streets school us to spend our money foolish\\nBond with jewelers and watch for intruders\\nI stepped it up another level, meditated like a Buddhist\\nRecruited lieutenants with ludicrous dreams of gettin' cream\\n\"Let's do this,\" it gets tedious\\nSo I keep one eye open like CBS — you see me stressed, right?\\n\\n[Chorus]\\nCan I live?\\nCan I live?\\nCan I live?\\nCan I live?  \n",
      "2                                                                                                                                                                                                                                                                                                                                                                                                                                                                                                                                                                                                                                                                                                                                                                                                                                                                                                                                                                                                                                                                                                                                                                                                                                                                                                                                                                     Maybe cause I'm eatin\\nAnd these bastards fiend for they grub\\nI carry pumps like I serve gasoline to these scrubs\\nHave you seen my Aston leanin on dubs\\nAnd they can't afford chrome so they puttin Vaseline on they hubs\\nI'm lookin for a girl with a ass like Trina to rub\\nTake home and let her watch the plasma screen in the tub\\nThese niggas hate I move as smooth as castor cream in the club\\nAnd dont pass my green or my bub\\nBut I'm a fly nigga that don't do much to pull her and dick her\\nEveryday I'm poppin a tag and pullin a sticker\\nEveryday I'm switchin the tags and pullin up sicker\\nEvery \"K\" I'm loadin the mags with bullets to flicker\\nAnd I ain't hesitatin homie I'm pullin it quicker\\nSo you can act tough After a few pulls of some liquor\\nGotta pull it on niggas\\nAnd they won't be goin nowhere for a while\\nThey might as well pull out a snicker Ye-Ye-Yea\\n\\n[Hook]\\nForgive me father for I have sinned\\nBut look at all this money that I spend\\nAnd look at all this jewlery that I'm in\\nAnd look at all the places that I've been\\nAnd look at all the women in those brims\\nLook at the blue flames that I'm in\\nI look at all the bullshit that theres been\\nAnd if I had another chance I'd do it again\\n[Verse 2]\\nAnywhere the kid move you know the hammers'll be with me\\nPokin out the shirt like a Pamela Lee titty\\nI went on tour brought the samples of D wit me\\nCame back a month later bought a Lambo for three-fifty\\nThink I throw you grams if you read with me\\nJust because you see me on the camera with P. Diddy\\nDammit we P-driddy?? Now I got G with me\\nAlong with the third leg that I be rammin in these bitties\\nI keep the revolver you hope my gun'll jam\\nBut with the scope its gonna blam\\nThe infra put freckles on your face like Opie Cunningham\\nThats why I'm watched by the Feds and scoped by Uncle Sam\\nDope and hunn-ed (hundred) grams rope and hunn-ed grams\\nAt the same time an artist get to open Summer Jam\\nHope you understand or use better sense\\nThese niggas dont want no beef they want lawsuit settlements Nigga!\\n\\n[Hook]\\n\\n[Verse 3]\\nI'm in a waggy when I'm passin by ya\\nWith a baby girl who suck harder than Maggie on a pacifier\\nWhat I'm smokin'll have you aggie as your last supplier\\nWhen you can smell it through the baggie you know that's some fire\\nGettin stressed by these hotties is regular\\nI got a magazine to press to your body like editors\\nTest me somebody I'm beggin ya\\nI got the gatling gun like Jesse The Body in Predator\\nI'm a hustler I dont sling no rocks to the fiends now\\nGot dudes who sit on corners like a boxer between rounds\\nAny other dude who dish rocks want beef\\nCause I chop dimes bigger than Chris Rock front teeth\\nI'm the nigga tearin the walls up in your miss in exchange for a small cup\\nOf the Cris\\nAnd while you at probation fillin a small cup full of piss\\nI'm in a coupe with a roof that ball up like a fist (Catch up!)  \n",
      "3  [Produced by Kanye West and Brian Miller]\\n\\n[Intro: Cam'ron & Kanye West]\\nUgh, Killa!\\nBaby!\\nKanye, this that 1970s Heron flow, huh?\\nYeah, let's speed it up\\nUgh, I'm back in, ugh, ugh\\nThey don't know we finna kill the game this year\\nKilla! 'Ye! C'mon!\\n\\n[Verse 1: Cam'ron]\\nAyo, street mergers, I legislated; the nerve, I never hated\\nOn murders, premeditated—absurd! I hesitated\\nObserve: cock and spray, hit you from a block away\\nDrinking sake on a Suzuki; we in Osaka Bay\\nPlaying soccer, stupid, stay in a sucker's place\\nPluck your ace, take your girl, fuck her face\\nShe dealing with Killa, so you love her taste\\nShe swallowing Killa 'cause she love the taste\\nI got brought up with crooking, kitchen orders that I'm cooking\\nBut got caught up with the juxes\\nYou would've thought I was from Brooklyn\\nIt gets boring just looking\\nDid like Bill Cosby, pouring in the pudding\\nNow, the dashboard is wooden from a hard-tangled grammar\\nInterior, inferior; Star-Spangled Banner\\nCar game bananas, mob manning tanners\\nGuns everywhere, like the car came with hammers, he's back\\n[Chorus: Kanye West & (Syleena Johnson)]\\nThey trying to say he (I'm down, down)\\nI hear niggas saying he (I'm down, but not out)\\nBut our flow is the truest (Oh), the game's in the nooses (No no)\\nOur girls is the models (Oh), they coochies the juiciest (Ooooh)\\nYeah, they say he (I'm down, down)\\nYeah, they say he (I'm down, but not out)\\n'Cause I'm back on my grind (Oh), money back on my mind (No no)\\nYe and Killa Cam, the world is mine (Oooh)\\n\\n[Verse 2: Cam'ron]\\nI treat bitches straight up, like Simon Says\\nOpen vagina; put your legs behind your head\\nCop me Air Ones, hon, lime and red\\nYou got pets? Me too: mines are dead, doggy\\nFox, minks, gators, that's necessary\\nAccessories, my closet's Pet Sematary\\nI get approached by animal activists\\nI live in a zoo, I run scandals with savages\\nAll my niggas get together to gather loot\\nBodyguard for what? Dog, I'd rather shoot\\nI go to war, old Timbs, battered boots\\nHand grenade, goggles and a parachute\\nY'all don't even know the name of my flip\\nIt was \"Touch Me, Tease Me\" when Case was the shit\\nYou don't know bout the cases I get:\\nCourt case, briefcase, suitcase, cases of Cris', oww!\\n[Chorus: Kanye West & (Syleena Johnson)]\\nThey trying to say he (I'm down, down)\\nI hear niggas saying he (I'm down, but not out)\\nBut our flow is the truest (Oh), the game's in the nooses (No no)\\nOur girls is the models (Oh), they coochies the juiciest (Ooooh)\\nYeah, they say he (I'm down, down)\\nYeah, they say he (I'm down, but not out)\\n'Cause I'm back on my grind (Oh), money back on my mind (No no)\\nYe and Killa Cam, the world is mine (Oooh)\\n\\n[Verse 3: Cam'ron]\\nUgh, Killa, yo, yo, ayo—\\nYou dealing with some sure shit, my bitches pure thick\\nPlay razor tag, slice your face, you're it!\\nIt's I who come by, drive-thru\\nGator-toed Mauri, three quarters, sky-blue\\nLook at mami: eyes blue, 5'2''\\nI approached her—\"Hi, boo, how you?\\nPony skin Louie? Oh, you fly too\\nYou a stewardess? Good, ma—I fly too\"\\nNow, a nigga got baking to bake\\nHarlem shake? Nah, I'm in Harlem shaking the weight\\nShaking to bake, shaking the Jakes\\nKill you, shoot the funeral up and Harlem Shake at your wake\\nJust your picture, though; you still taped in a lake\\nI'm laughing; you couldn't wait to escape\\nFor anyone who owed the dough, I had to load the four\\nI hope a nigga heard when I said \"I told you so\"\\nUgh, Killa!\\n[Chorus: Kanye West & (Syleena Johnson)]\\nThey trying to say he (I'm down, down)\\nI hear niggas saying he (I'm down, but not out)\\nBut our flow is the truest (Oh), the game's in the nooses (No no)\\nOur girls is the models (Oh), they coochies the juiciest (Ooooh)\\nYeah, they say he (I'm down, down)\\nYeah, they say he (I'm down, but not out)\\n'Cause I'm back on my grind (Oh), money back on my mind (No no)\\nYe and Killa Cam, the world is mine (Oooh)\\n\\n[Outro: Cam'ron]\\nMine! Killa!\\nYou already know Harlem\\nWhole Midwest, Detroit, Naptown, St. Louis\\nChicago, of course\\nWestside, holla at me\\nSouthside, wild hundreds\\nYou know what it is, Ohio\\nColumbus, holla at your boy\\nYou know what else I do:\\nDayton, Youngstown, Cleveland, Cincinnati  \n",
      "4                                                                                                                                                                                                                                                                                                                                                                                                                                                                                                                                                                                                                                                                                                                                                                                                                                                                                                                                                                                                                                                                                                                                                                                                                                                                                                                                                                                                                                                                                                                                                                                                                                                                                                                                                                                                                                                                                                                                                                                                                                                                                    [Intro]\\nSo they ask me\\n\"Young boy\\nWhat you gon' do the second time around?\\nHow you gon' come back?\"\\nI tried told 'em\\n\"I come back like 32\\nI jump back like 33\"\\nUgh, hit me\\nThat's nothing\\nThis is Tha Carter II, people\\nThis is Tha Carter II, people\\nHey\\n\\n[Verse]\\nThey call me Mr. Carter, I kissed the daughter\\nOf the dead's forehead, I killed the father\\nSpilled the heart of a mildew hater\\nI will put them body on chill like glaciers, gracias\\nI'm crazy, yes, it's obvious\\nGoing against me is atheist\\nI got my angels on my shoulder and a quarter of that angel dust\\nI ain't sniffing, I'm just pitching, your honor\\nI ain't snitching, your honor\\nHate bitch niggas, bitches with power\\nVacate when that kitchen get hotter\\nI just sit on the counter\\nOpen the cabinet, close the cupboard\\nPut that jar in the skillet, drop a four in the bubbles\\nI remember being young, tryna hustle my dope\\nTryna tell the old junkies that my crack ain't soap\\nTryna tell you 'fore you jump that my MAC ain't broke\\nYou ain't tryna see how far that black back lane go, no\\nCall me Pac-Man, your ghost is blue\\nI got my Red River rubies and my ocean blue jewelry\\nUsually I'm a hooligan for the money\\nYeah, I'm eating, but I got a tapeworm in my tummy, oh\\nMake harm and I bomb you in public\\nHit you with the straight-arm, no warning, nothing\\nLook, it's morning, no yawning or nothing\\nI ain't sleeping, I'm up tryna take a nigga lunch\\nYou gon' make a nigga break a nigga fronts\\nThen shake a nigga shorts and we taking what we want\\nI'm so 504, you got to kill me here\\nIf you ever looking for me, bitch, I will be here\\nCash Money is an army, Navy Seal me here\\nLot of niggas ran from me, but I still be here\\nNo chrome on the Continental, I'm so fundamental\\nCrack the Phil', crack the roof, and roll up the windows\\nAnd my hood love me, they tell me bring it home\\nThat's why I holler Hollygrove on each and every song\\nYou leaping at a dog, a dog with no bark\\nJust a bite like an old shark\\nAnd all you rich niggas know Pa, I'm talking 'bout Stunna\\nHe like, \"Keep your dough,\" he got your ho\\nAnd the sun shines on the king and sets on the prince\\nI met the Birdman and I been shining ever since, like that  \n"
     ]
    }
   ],
   "source": [
    "# Eliminate leading and trailing white spaces from the 'lyrics' column\n",
    "Final_rap_data['lyrics'] = Final_rap_data['lyrics'].str.strip()\n",
    "# Display the first 5 rows of the DataFrame to verify the changes\n",
    "print(Final_rap_data.head())\n"
   ]
  },
  {
   "cell_type": "code",
   "execution_count": 20,
   "metadata": {},
   "outputs": [
    {
     "name": "stdout",
     "output_type": "stream",
     "text": [
      "     artist_name                                track_name  release_date  \\\n",
      "0        Cam'ron                                 Killa Cam          2004   \n",
      "1          JAY-Z                                Can I Live          1996   \n",
      "2       Fabolous                         Forgive Me Father          2003   \n",
      "3        Cam'ron                              Down and Out          2004   \n",
      "4      Lil Wayne                                    Fly In          2005   \n",
      "..           ...                                       ...           ...   \n",
      "196  Project Pat                        Smoke and Get High          2002   \n",
      "197       Eminem                                Role Model          1999   \n",
      "198        JAY-Z                             Where Im From          1997   \n",
      "199       Clipse                          Chinese New Year          2006   \n",
      "200   Snoop Dogg  Aint No Fun If the Homies Cant Have None          1993   \n",
      "\n",
      "    genre  \\\n",
      "0     rap   \n",
      "1     rap   \n",
      "2     rap   \n",
      "3     rap   \n",
      "4     rap   \n",
      "..    ...   \n",
      "196   rap   \n",
      "197   rap   \n",
      "198   rap   \n",
      "199   rap   \n",
      "200   rap   \n",
      "\n",
      "                                                                                                                                                                                                                                                                                                                                                                                                                                                                                                                                                                                                                                                                                                                                                                                                                                                                                                                                                                                                                                                                                                                                                                                                                                                                                                                                                                                                                                                                                                                                                                                                                                                                                                                                                                                                                                                                                                                                                                                                                                                                                                                                                                                                                                                                                                                                                                                                                                                                                                                                                                                                                                                                                                                                                                                                                                                                                                                                                                                                                                                                                                                                                                                                                                                                                                                                                                                                                                                                                                                                                                                                                                                                                                                                                                                                                                                                                                                                                                                                                                                                                                                                                                                                                                                                                                                                                                                                                                                                                                                                                                                                                                                                                                                                                                                                                                                                                                                                                                                                                                                                                                                                                                                                                                                                                                                                                                                                                                                                                                   lyrics  \n",
      "0                                                                                                                                                                                                                                                                                                                                                                                                                                                                                                                                                                                                                                                                                                                                                                                                                                                                                                                                                                                                                                                                                                                                   [Chorus: Opera Steve & Cam'ron]\\nKilla Cam, Killa Cam, Cam\\nKilla Cam, Killa Cam\\nKilla Cam, Cam\\nKilla Cam, Killa Cam, Cam\\nKilla Killa Killa Cam\\nKilla Cam, Cam, Killa (Killa!)\\nKilla Cam, Killa Cam, Cam (Bases loaded)\\nKilla Cam, Killa Cam (Uh-huh)\\nKilla Cam, Cam (Santana on second, Jim on third)\\nKilla Cam, Killa Cam, Cam (I'm at bat)\\nKilla Killa Killa Cam\\nKilla Cam, Cam, Killa (I'm 'bout to hit this shit out the world)\\nKilla Cam (Ugh, Heatmakerz), Killa Cam, Cam\\nKilla Cam, Killa Cam\\nKilla Cam, Cam (Hahahaha)\\nKilla Cam, Killa Cam, Cam\\nKilla Killa Killa Cam\\nKilla Cam, Cam, Killa (We  make this shit clap)\\nKilla Cam, Killa Cam, Cam\\nKilla Cam, Killa Cam\\nKilla Cam, Cam\\nKilla Cam, Killa Cam, Cam\\nKilla Killa Killa Cam (Killa! Killa!)\\nKilla Cam, Cam, Killa\\n[Verse 1]\\nWith the goons I spar, stay in tune with ma (What up?)\\nShe like, \"Damn, this the realest since 'Kumbaya'\"\\nBomaye, Killa Cam, my Lord (My Lord)\\nStill the man with the pan, scrilla, fam, on board\\nNow bitches, they want to neuter me, niggas, they want to tutor me\\nThe hooligan in Houlihan's, maneuvering's nothing new to me\\nDoggy, I'm from the land of grind, pan-pan: gram or dime?\\nNot toes or MC when I say \"hammer time\"\\nBeef: I hammer mine, when I get my hands on nines\\nIf I had on 'Bama line, Corduroys, Cam'll shine\\nCanary burgundy: I call it \"Lemon Red\" (Red)\\nYellow diamonds in my ear, call 'em \"Lemonheads\"\\nLemonhead, end up dead, ice like Winnipeg\\nGemstone, Flintstones, you could say I'm friends with Fred\\nYou unhappy, scrappy? (What's going on, Scrappy?)\\nI got Pataki at me\\nBitches say I'm \"Tacky Daddy,\" Range look like Laffy Taffy\\n\\n[Chorus]\\nKilla Cam\\nKilla Cam Cam (sing)\\nKilla Cam Killa Cam\\nKilla Cam Cam (uhh, it's me, clap)\\nKilla Cam\\nKilla Cam Cam\\nKilla Killa Killa Cam (sing)\\nKilla Cam Cam Killa (uhh, it's me, clap)\\nKilla Cam\\nKilla Cam Cam (sing)\\nKilla Cam Killa Cam\\nKilla Cam Cam (clap, it's me)\\nKilla Cam\\nKilla Cam Cam\\nKilla Killa Killa Cam (clap)\\n(Harlem, I know y'all know about this)\\nKilla Cam Cam Killa (Killa!)\\n[Verse 2]\\nYo, I'm from where Nicky Barnes got rich as fuck\\nRich and A hit the kitchens then were pitchin' up\\nRob Base, Mase, Doug E Fresh switched it up\\nI do both, who am I to fuck tradition up? (Killa!)\\nSo I parked in a tow-away zone\\nChrome...I don't care\\nThat car a throwaway, homes (Killa!)\\nWelcome to Harlem, where you welcome to problems\\nOff of furlough, fellow felons get pardons\\nThem niggas knew we bang\\nStood out like Pootie Tang\\nSoon as the stoolie sings\\nThat when the toolie sing!\\nBang! Bang!\\nCame from that movie ring\\nSnap, crack jewelry bling\\nFlapjack, ooh he bring\\nClack-clack, \"ooh he ring!\"\\nBad rap, cuties cling\\nAss cap, put them in the river\\nI'm the sushi king\\nAnd I'ma keep ya fresh\\nLet the fish eat ya flesh\\nYes sir, please confess\\nJust say he's the best (Killa!)\\n[Chorus]\\nKilla Cam (sing)\\nKilla Cam Cam (clap)\\nKilla Cam Killa Cam (yes)\\nKilla Cam Cam (it's me, sing)\\nKilla Cam\\nKilla Cam Cam (sing)\\nKilla Killa Killa Cam\\nKilla Cam Cam Killa  (clap, yes sir, uhh)\\nKilla Cam\\nKilla Cam Cam (sing, clap)\\nKilla Cam Killa Cam\\nKilla Cam Cam (it's me)\\nKilla Cam (sing, clap)\\nKilla Cam Cam\\nKilla Killa Killa Cam\\n(Let me end this shit, listen)\\nKilla Cam Cam Killa\\n\\n[Verse 3]\\n(Killa!) Yo\\nHow dope is this?\\nTeach you how to rope a chick\\nWhat you want: coke or piff?\\nGot it all, smoke or sniff? (everything)\\nAnd you know my drift\\nUsed to figures, dough and shit (millions)\\nYou a rooster nigga, just a roaster, bitch\\nAnd I roast ya bitch\\nThat's how it usually ends\\nTell her and her groupie friends\\nGo get their coochie cleansed\\nWe the moody Gucci, Louis and Pucci men\\nEscada, Prada\\nThe chopper it got the Uzi lens\\nBird's-eye view\\nThe birds I knew flip birds\\nBird gangs, it was birds I flew\\nAnd word I blew off herb I grew\\nI would serve on stoops\\nNow swerve in coupes\\nIt's me, sing! Killa, uhh\\n\\n[Chorus]\\nKilla Cam\\nKilla Cam Cam\\nKilla Cam Killa Cam\\nKilla Cam Cam\\nKilla Cam\\nKilla Cam Cam\\nKilla Killa Killa Cam\\nKilla Cam Cam Killa\\nKilla Cam\\nKilla Cam Cam\\nKilla Cam Killa Cam\\nKilla Cam Cam\\nKilla Cam\\nKilla Cam Cam\\nKilla Killa Killa Cam\\nKilla Cam Cam Killa  \n",
      "1                                                                                                                                                                                                                                                                                                                                                                                                                                                                                                                                                                                                                                                                                                                                                                                                                                                                                                                                                                                                                                                                                                                                                                                                                                                                                                                                                                                                                                                                                                                                                                                                                                                                                                                                                                                                                                                                                                                                                                                                                                                                                                                                                                                                                                                                                                                                                        [Produced by Irv Gotti]\\n\\n[Intro]\\nYeah, hah, yeah, Roc-A-Fella\\nWe invite you to somethin' epic, you know?\\nWell, we hustle out of a sense of hopelessness\\nSort of a desperation\\nThrough that desperation, we become addicted\\nSort of like the fiends we accustomed to servin'\\nBut we feel we have nothin' to lose\\nSo, we offer you, well, we offer our lives, right?\\nWhat do you bring to the table?\\n\\n[Verse 1]\\nWhile I'm watchin' every nigga watchin' me closely\\nMy shit is butter for the bread, they wanna toast me\\nI keep my head, both of them, where they supposed to be\\nHoes'll get you sidetracked, then clapped from close feet\\nI don't sleep, I'm tired, I feel wired like codeine, these days\\nA brother gotta admire me from four fiends away\\nMy pain, wish it was quick to see\\nFrom sellin' 'caine 'til brains was fried to a fricassee\\nCan't lie, at the time it never bothered me\\nAt the bar, gettin' my thug on properly\\nMy squad and me lack of respect for authority\\nLaughin' hard, happy to be escapin' poverty, however brief\\nI know this game got valleys and peaks\\nExpectation for dips, for precipitation we stack chips, hardly\\nThe youth I used to be, soon to see a mill'in\\nNo more Big Willie, my game has grown\\nPrefer you call me William\\nIllin' for revenues, Rayful Edmond-like\\nChannel 7 News, round seven jewels, head dead in the mic\\nForgettin' all I ever knew, convenient amnesia\\n\"I suggest you call my lawyer, I know the procedure.\"\\nLock my body, can't trap my mind\\nEasily explain why we adapt to crime\\nI'd rather die enormous than live dormant, that's how we on it\\nLive at the main event, I bet a trip to Maui on it\\nPresidential suites my residential for the weekend\\nConfidentially speakin' in codes since I sense you peekin'\\nThe NSX rental, don't be fooled, my game is mental\\nWe both out of town, dog, what you tryin' to get into?\\nViva Las Vegas, see ya later at the crap tables\\nMeet me by the one that starts a G up\\nThis way no Fraud Willies present gamblin' they re-up\\nAnd we can have a pleasant time, sippin' margaritas\\n[Chorus]\\nGe-ge-geyeahhh\\nCan I live?\\nCan I live?\\n\\n[Verse 2]\\nMy mind is infested with sick thoughts that circle\\nLike a Lexus, if driven wrong it's sure to hurt you\\nDual level like duplexes, in unity\\nMy crew and me commit atrocities like we got immunity\\nYou guessed it, manifest it\\nIn tangible goods, platinum Rolex'd it\\nWe don't lease, we buy the whole car, as you should\\nMy confederation, dead a nation\\nExplode on detonation, overload the mind of a said patient\\nWhen it boils to steam, it comes to it\\nWe all fiends, gotta do it: even righteous minds go through this\\nTrue this, the streets school us to spend our money foolish\\nBond with jewelers and watch for intruders\\nI stepped it up another level, meditated like a Buddhist\\nRecruited lieutenants with ludicrous dreams of gettin' cream\\n\"Let's do this,\" it gets tedious\\nSo I keep one eye open like CBS — you see me stressed, right?\\n\\n[Chorus]\\nCan I live?\\nCan I live?\\nCan I live?\\nCan I live?  \n",
      "2                                                                                                                                                                                                                                                                                                                                                                                                                                                                                                                                                                                                                                                                                                                                                                                                                                                                                                                                                                                                                                                                                                                                                                                                                                                                                                                                                                                                                                                                                                                                                                                                                                                                                                                                                                                                                                                                                                                                                                                                                                                                                                                                                                                                                                                                                                                                                                                                                                                                                   Maybe cause I'm eatin\\nAnd these bastards fiend for they grub\\nI carry pumps like I serve gasoline to these scrubs\\nHave you seen my Aston leanin on dubs\\nAnd they can't afford chrome so they puttin Vaseline on they hubs\\nI'm lookin for a girl with a ass like Trina to rub\\nTake home and let her watch the plasma screen in the tub\\nThese niggas hate I move as smooth as castor cream in the club\\nAnd dont pass my green or my bub\\nBut I'm a fly nigga that don't do much to pull her and dick her\\nEveryday I'm poppin a tag and pullin a sticker\\nEveryday I'm switchin the tags and pullin up sicker\\nEvery \"K\" I'm loadin the mags with bullets to flicker\\nAnd I ain't hesitatin homie I'm pullin it quicker\\nSo you can act tough After a few pulls of some liquor\\nGotta pull it on niggas\\nAnd they won't be goin nowhere for a while\\nThey might as well pull out a snicker Ye-Ye-Yea\\n\\n[Hook]\\nForgive me father for I have sinned\\nBut look at all this money that I spend\\nAnd look at all this jewlery that I'm in\\nAnd look at all the places that I've been\\nAnd look at all the women in those brims\\nLook at the blue flames that I'm in\\nI look at all the bullshit that theres been\\nAnd if I had another chance I'd do it again\\n[Verse 2]\\nAnywhere the kid move you know the hammers'll be with me\\nPokin out the shirt like a Pamela Lee titty\\nI went on tour brought the samples of D wit me\\nCame back a month later bought a Lambo for three-fifty\\nThink I throw you grams if you read with me\\nJust because you see me on the camera with P. Diddy\\nDammit we P-driddy?? Now I got G with me\\nAlong with the third leg that I be rammin in these bitties\\nI keep the revolver you hope my gun'll jam\\nBut with the scope its gonna blam\\nThe infra put freckles on your face like Opie Cunningham\\nThats why I'm watched by the Feds and scoped by Uncle Sam\\nDope and hunn-ed (hundred) grams rope and hunn-ed grams\\nAt the same time an artist get to open Summer Jam\\nHope you understand or use better sense\\nThese niggas dont want no beef they want lawsuit settlements Nigga!\\n\\n[Hook]\\n\\n[Verse 3]\\nI'm in a waggy when I'm passin by ya\\nWith a baby girl who suck harder than Maggie on a pacifier\\nWhat I'm smokin'll have you aggie as your last supplier\\nWhen you can smell it through the baggie you know that's some fire\\nGettin stressed by these hotties is regular\\nI got a magazine to press to your body like editors\\nTest me somebody I'm beggin ya\\nI got the gatling gun like Jesse The Body in Predator\\nI'm a hustler I dont sling no rocks to the fiends now\\nGot dudes who sit on corners like a boxer between rounds\\nAny other dude who dish rocks want beef\\nCause I chop dimes bigger than Chris Rock front teeth\\nI'm the nigga tearin the walls up in your miss in exchange for a small cup\\nOf the Cris\\nAnd while you at probation fillin a small cup full of piss\\nI'm in a coupe with a roof that ball up like a fist (Catch up!)  \n",
      "3                                                                                                                                                                                                                                                                                                                                                                                                                                                                                                                                                                                                                                                                                                                                                                                                                                                                                                                                                                                                                                                                                                                [Produced by Kanye West and Brian Miller]\\n\\n[Intro: Cam'ron & Kanye West]\\nUgh, Killa!\\nBaby!\\nKanye, this that 1970s Heron flow, huh?\\nYeah, let's speed it up\\nUgh, I'm back in, ugh, ugh\\nThey don't know we finna kill the game this year\\nKilla! 'Ye! C'mon!\\n\\n[Verse 1: Cam'ron]\\nAyo, street mergers, I legislated; the nerve, I never hated\\nOn murders, premeditated—absurd! I hesitated\\nObserve: cock and spray, hit you from a block away\\nDrinking sake on a Suzuki; we in Osaka Bay\\nPlaying soccer, stupid, stay in a sucker's place\\nPluck your ace, take your girl, fuck her face\\nShe dealing with Killa, so you love her taste\\nShe swallowing Killa 'cause she love the taste\\nI got brought up with crooking, kitchen orders that I'm cooking\\nBut got caught up with the juxes\\nYou would've thought I was from Brooklyn\\nIt gets boring just looking\\nDid like Bill Cosby, pouring in the pudding\\nNow, the dashboard is wooden from a hard-tangled grammar\\nInterior, inferior; Star-Spangled Banner\\nCar game bananas, mob manning tanners\\nGuns everywhere, like the car came with hammers, he's back\\n[Chorus: Kanye West & (Syleena Johnson)]\\nThey trying to say he (I'm down, down)\\nI hear niggas saying he (I'm down, but not out)\\nBut our flow is the truest (Oh), the game's in the nooses (No no)\\nOur girls is the models (Oh), they coochies the juiciest (Ooooh)\\nYeah, they say he (I'm down, down)\\nYeah, they say he (I'm down, but not out)\\n'Cause I'm back on my grind (Oh), money back on my mind (No no)\\nYe and Killa Cam, the world is mine (Oooh)\\n\\n[Verse 2: Cam'ron]\\nI treat bitches straight up, like Simon Says\\nOpen vagina; put your legs behind your head\\nCop me Air Ones, hon, lime and red\\nYou got pets? Me too: mines are dead, doggy\\nFox, minks, gators, that's necessary\\nAccessories, my closet's Pet Sematary\\nI get approached by animal activists\\nI live in a zoo, I run scandals with savages\\nAll my niggas get together to gather loot\\nBodyguard for what? Dog, I'd rather shoot\\nI go to war, old Timbs, battered boots\\nHand grenade, goggles and a parachute\\nY'all don't even know the name of my flip\\nIt was \"Touch Me, Tease Me\" when Case was the shit\\nYou don't know bout the cases I get:\\nCourt case, briefcase, suitcase, cases of Cris', oww!\\n[Chorus: Kanye West & (Syleena Johnson)]\\nThey trying to say he (I'm down, down)\\nI hear niggas saying he (I'm down, but not out)\\nBut our flow is the truest (Oh), the game's in the nooses (No no)\\nOur girls is the models (Oh), they coochies the juiciest (Ooooh)\\nYeah, they say he (I'm down, down)\\nYeah, they say he (I'm down, but not out)\\n'Cause I'm back on my grind (Oh), money back on my mind (No no)\\nYe and Killa Cam, the world is mine (Oooh)\\n\\n[Verse 3: Cam'ron]\\nUgh, Killa, yo, yo, ayo—\\nYou dealing with some sure shit, my bitches pure thick\\nPlay razor tag, slice your face, you're it!\\nIt's I who come by, drive-thru\\nGator-toed Mauri, three quarters, sky-blue\\nLook at mami: eyes blue, 5'2''\\nI approached her—\"Hi, boo, how you?\\nPony skin Louie? Oh, you fly too\\nYou a stewardess? Good, ma—I fly too\"\\nNow, a nigga got baking to bake\\nHarlem shake? Nah, I'm in Harlem shaking the weight\\nShaking to bake, shaking the Jakes\\nKill you, shoot the funeral up and Harlem Shake at your wake\\nJust your picture, though; you still taped in a lake\\nI'm laughing; you couldn't wait to escape\\nFor anyone who owed the dough, I had to load the four\\nI hope a nigga heard when I said \"I told you so\"\\nUgh, Killa!\\n[Chorus: Kanye West & (Syleena Johnson)]\\nThey trying to say he (I'm down, down)\\nI hear niggas saying he (I'm down, but not out)\\nBut our flow is the truest (Oh), the game's in the nooses (No no)\\nOur girls is the models (Oh), they coochies the juiciest (Ooooh)\\nYeah, they say he (I'm down, down)\\nYeah, they say he (I'm down, but not out)\\n'Cause I'm back on my grind (Oh), money back on my mind (No no)\\nYe and Killa Cam, the world is mine (Oooh)\\n\\n[Outro: Cam'ron]\\nMine! Killa!\\nYou already know Harlem\\nWhole Midwest, Detroit, Naptown, St. Louis\\nChicago, of course\\nWestside, holla at me\\nSouthside, wild hundreds\\nYou know what it is, Ohio\\nColumbus, holla at your boy\\nYou know what else I do:\\nDayton, Youngstown, Cleveland, Cincinnati  \n",
      "4                                                                                                                                                                                                                                                                                                                                                                                                                                                                                                                                                                                                                                                                                                                                                                                                                                                                                                                                                                                                                                                                                                                                                                                                                                                                                                                                                                                                                                                                                                                                                                                                                                                                                                                                                                                                                                                                                                                                                                                                                                                                                                                                                                                                                                                                                                                                                                                                                                                                                                                                                                                                                                                                                                                                                                                                                                                                                                                                                                                                                                                                                                                                                                                                  [Intro]\\nSo they ask me\\n\"Young boy\\nWhat you gon' do the second time around?\\nHow you gon' come back?\"\\nI tried told 'em\\n\"I come back like 32\\nI jump back like 33\"\\nUgh, hit me\\nThat's nothing\\nThis is Tha Carter II, people\\nThis is Tha Carter II, people\\nHey\\n\\n[Verse]\\nThey call me Mr. Carter, I kissed the daughter\\nOf the dead's forehead, I killed the father\\nSpilled the heart of a mildew hater\\nI will put them body on chill like glaciers, gracias\\nI'm crazy, yes, it's obvious\\nGoing against me is atheist\\nI got my angels on my shoulder and a quarter of that angel dust\\nI ain't sniffing, I'm just pitching, your honor\\nI ain't snitching, your honor\\nHate bitch niggas, bitches with power\\nVacate when that kitchen get hotter\\nI just sit on the counter\\nOpen the cabinet, close the cupboard\\nPut that jar in the skillet, drop a four in the bubbles\\nI remember being young, tryna hustle my dope\\nTryna tell the old junkies that my crack ain't soap\\nTryna tell you 'fore you jump that my MAC ain't broke\\nYou ain't tryna see how far that black back lane go, no\\nCall me Pac-Man, your ghost is blue\\nI got my Red River rubies and my ocean blue jewelry\\nUsually I'm a hooligan for the money\\nYeah, I'm eating, but I got a tapeworm in my tummy, oh\\nMake harm and I bomb you in public\\nHit you with the straight-arm, no warning, nothing\\nLook, it's morning, no yawning or nothing\\nI ain't sleeping, I'm up tryna take a nigga lunch\\nYou gon' make a nigga break a nigga fronts\\nThen shake a nigga shorts and we taking what we want\\nI'm so 504, you got to kill me here\\nIf you ever looking for me, bitch, I will be here\\nCash Money is an army, Navy Seal me here\\nLot of niggas ran from me, but I still be here\\nNo chrome on the Continental, I'm so fundamental\\nCrack the Phil', crack the roof, and roll up the windows\\nAnd my hood love me, they tell me bring it home\\nThat's why I holler Hollygrove on each and every song\\nYou leaping at a dog, a dog with no bark\\nJust a bite like an old shark\\nAnd all you rich niggas know Pa, I'm talking 'bout Stunna\\nHe like, \"Keep your dough,\" he got your ho\\nAnd the sun shines on the king and sets on the prince\\nI met the Birdman and I been shining ever since, like that  \n",
      "..                                                                                                                                                                                                                                                                                                                                                                                                                                                                                                                                                                                                                                                                                                                                                                                                                                                                                                                                                                                                                                                                                                                                                                                                                                                                                                                                                                                                                                                                                                                                                                                                                                                                                                                                                                                                                                                                                                                                                                                                                                                                                                                                                                                                                                                                                                                                                                                                                                                                                                                                                                                                                                                                                                                                                                                                                                                                                                                                                                                                                                                                                                                                                                                                                                                                                                                                                                                                                                                                                                                                                                                                                                                                                                                                                                                                                                                                                                                                                                                                                                                                                                                                                                                                                                                                                                                                                                                                                                                                                                                                                                                                                                                                                                                                                                                                                                                                                                                                                                                                                                                                                                                                                                                                                                                                                                                                                                                                                                                                                                    ...  \n",
      "196                                                                                                                                                                                                                                                                                                                                                                                                                                                                                                                                                                                                                                                                                                                                                                                                                                                                                                                                                                                                                                                                                                                                                                                                                                                                                                                                                                                                                                                                                                                                                                                                                                                                                                                                                                                                                                                                                                                                                                                                                                                                                                                                                                                                                                                                                                                                                                                                                                                                                                                                                                                                                                                                                                                                                                                                                                                                                                                                                                                                                                                                                 [Hook]\\nWe gon drink, we gon ride\\nWe gon smoke and get high\\nSmoke and get high, smoke and get high\\n\\n[Verse 1 - Project Pat]\\nHypnotize camp got a answer for you hoes\\nInhale the weed blow the smoke out your nose\\nCrack open bottles of that liquor, pour it in\\nGonna take a swallow of that vodka and gin\\nHoes making cheese off of tricks who'll spend\\nUp all they money, ho you gotta check em in\\nGame recognize, eyes lit like a match\\nBlaze up this fire, paranoid like on crack\\nRiding with my dogs, dodging laws when we roll\\nThrough the Dixie Homes me and Toby on a stroll\\nSee a short skirt and we looking for a ho\\nOne that'll suck dick, one that'll go\\nCoward ass niggas get wrong and we blast\\nNever knowing who always wear a mask\\nTalking that smack, then reach in the stash\\nDumping them slugs then mash on the gas\\n[Hook]\\n[Verse 2 - Crunchy Black]\\nAll I do is smoke on bud\\nBreak the Swisher down, nigga, fill it up with drugsRiding through your neighborhood with my cuz\\nLooking for us a freaky little slut\\nFound us a slut, so we pick the bitch up\\nSmoking on that 'dro, nigga, pouring in her cup\\nThis bitch right here know she gotta fuck\\nFucked me, mane, and she sucking on my cuz\\nFill her up with X, mane, we don't give a fuck\\nGet this little freaky bitch for some drugs\\nDo her ass in, mane, smoking on that 'dro\\nBreaking down the weed, mane, smoking up some mo'\\nBroke out the powder on this freaky ho\\nLet me see: how far will this ho go?\\nStick dick down all in her bootyhole\\nMane, this a freaky ass-fucking ho!\\n\\n[Hook]\\nWe gon drink, we gon ride\\nWe gon smoke and get high\\nSmoke and get high, smoke and get high\\n\\n[Verse 3 - Project Pat]\\nThis is a weed session\\nYou need to take out the seeds, yes sir\\nThe kind of dope that we like to smoke\\nThe red hairs get you high, you choke\\nWe gonna break down in bags, sack up\\nWe chain-smokers taking drags, no slack up\\nThen take shots of that liquor intox-o-\\nCated mane, hand on trigga, let it blow\\nI go insane iffin' I don't get 'dro\\nDog I ain't paying for no bab a: hell no\\nI'm low on ends, so I turn into leech\\nI might go smoke all your shit then hit streets\\nYou look around and you could be victim\\n\"Hey you got five on a bag?\" Done tricked him!\\nHe thinking Project was cool, you damn fool\\nMane I got Memphis in my blood, I cross too  \n",
      "197                                                                                                                                                                                                                                                                                                                                                                                                                                                                                                                                                                                                                                                                                                                                                                                                                                                                                                                                                                                                                                                                                                                                                                                                                                                                                                                                                                                                                                                                                                                                                                                                                                                                                                                                                                                                                                           [Intro]\\nOkay, I'm going to attempt to drown myself\\nYou can try this at home\\nYou can be just like me\\nMic check, one-two, we recordin'?\\n\\n[Verse 1]\\nI'm cancerous, so when I diss, you wouldn't wanna answer this\\nIf you responded back with a battle rap you wrote for Canibus\\nI'll strangle you to death, then I'll choke you again\\nAnd break your fuckin' legs 'til your bones poke through your skin\\nYou beef with me, I'ma even the score equally\\nTake you on Jerry Springer and beat your ass legally\\nI get too blunted off of funny home grown\\n'Cause when I smoke out, I hit the trees harder than Sonny Bono\\n(Oh no) So if I said I never did drugs\\nThat would mean I lie and get fucked more than the President does\\nHilary Clinton tried to slap me and call me a pervert\\nI ripped her fuckin' tonsils out and fed her sherbet (Bitch)\\nMy nerves hurt, and lately I'm on edge\\nGrabbed Vanilla Ice and ripped out (C'mere) his blond dreads (Fuck you)\\nEvery girl I ever went out with has gone les'\\nFollow me and do exactly what the song says\\nSmoke weed, take pills, drop out of school, kill people\\nAnd drink, jump behind the wheel like it was still legal\\nI'm dumb enough to walk in a store and steal\\nSo I'm dumb enough to ask for a date with Lauryn Hill\\nSome people only see that I'm white, ignorin' skill\\n'Cause I stand out like a green hat with a orange bill\\nBut I don't get pissed, y'all don't even see through the mist\\nHow the fuck can I be white? I don't even exist\\nI get a clean shave, bathe, go to a rave\\nDie from an overdose and dig myself up out of my grave\\nMy middle finger won't go down, how do I wave?\\nAnd this is how I'm supposed to teach kids how to behave?\\n[Chorus]\\nNow, follow me and do exactly what you see\\nDon't you wanna grow up to be just like me?\\nI slap women and eat shrooms, then OD\\nNow, don't you want to grow up to be just like me?\\n\\n[Verse 2]\\nMe and Marcus Allen went over to see Nicole\\nWhen we heard a knock at the door, must've been Ron Gold\\nJumped behind the door, put the orgy on hold\\nKilled them both, then smeared blood on the white Bronco\\n(We did it) My mind won't work if my spine don't jerk\\nI slapped Garth Brooks out of his rhinestone shirt\\nI'm not a player, just a ill rhyme sayer\\nThat'll spray a aerosol can up at the ozone layer\\nMy rap style's warped, I'm runnin' out the morgue\\nWith your dead grandmother's corpse to throw it on your porch\\nJumped in a Chickenhawk cartoon with a cape on\\nAnd beat up Foghorn Leghorn with an acorn\\nI'm 'bout as normal as Norman Bates with deformative traits\\nA premature birth that was four minutes late\\nMother, are you there? I love you\\nI never meant to hit you over the head with that shovel (That shovel)\\nWill someone please explain to my brain\\nThat I just severed the main vein with a chainsaw and I'm in pain?\\nI take a breather and sigh, either I'm high or I'm nuts\\n'Cause if you ain't tiltin' this room, neither am I\\nSo when you see your mom with a thermometer shoved in her ass\\nThen it probably is obvious I got it on with her\\n'Cause when I drop this solo shit, it's over with\\nI bought Cage's tape, opened it, and dubbed over it\\n[Chorus]\\nI came to the club drunk with a fake ID\\nDon't you wanna grow up to be just like me?\\nI've been with ten women who got HIV\\nNow, don't you wanna grow up to be just like me?\\nI got genital warts and it burns when I pee\\nDon't you wanna grow up to be just like me?\\nI tie a rope around my penis and jump from a tree\\nYou probably wanna grow up to be just like me  \n",
      "198  [Intro]\\nUh huh, ge-ge ge-ge-geah\\nYe-ye-yeah, ye-ye-yeah, (Brooklyn)\\nHow real is, this?\\nHow real is, this? (Brooklyn)\\nUh-huh huh  (Brooklyn)\\nRespect this here, check!\\n\\n[Verse 1]\\nI'm from where the hammers rung, news cameras never come\\nYou and your mans hung in every verse in your rhyme\\nWhere the grams was slung, niggas vanish every summer\\nWhen the blue vans would come, we throw the work in the can and run\\nWhere the plans was to get funds and skate off the set\\nTo achieve this goal quicker, sold all my weight wet\\nFaced with immeasurable odds, still I gave straight bets\\nSo I felt I'm owed something and you nothing, check\\nI'm from the other side where the other guys don't walk too much\\nAnd girls from the projects wouldn't fuck us, said we talked too much\\nSo they ran up to Tompkins and sought them dudes to trust\\nI don't know what the fuck they thought, those niggas is foul just like us\\nI'm from where the beef is inevitable, summertime's unforgettable\\nBoosters in abundance, buy a half-price sweater new\\nYour word was everything, so everything you said you'd do\\nYou did it, couldn't talk about it if you ain't live it\\nI'm from where niggas pull your card, and argue all day about\\nWho's the best MCs, Biggie, Jay-Z or Nas?\\nWhere the drugs czars evolve, and thugs are at odds\\nAt each other's throats for the love of foreign cars\\nWhere cats catch cases, hoping the judge R-and-R's\\nBut most times find themselves locked up behind bars, is that all?\\nI'm from where they ball and breed rhyme stars\\nI'm from Marcy, son, just thought I'd remind y'all\\n[Chorus]\\nCough up a lung, where I'm from, Marcy son, ain't nothing nice\\n(Mentally been many places but I'm Brooklyn's own)\\nCough up a lung, where I'm from, Marcy son, ain't nothing nice\\n(Mentally been many places but I'm Brooklyn's own)\\nCough up a lung, where I'm from, Marcy son, ain't nothing nice\\n(Mentally been many places but I'm Brooklyn's own)\\nCough up a lung, where I'm from, Marcy son, ain't nothing nice\\n(Mentally been many places but I'm Brooklyn's own)\\nCough up a lung, where I'm from, Marcy son, ain't nothing nice\\n(Brooklyn... so where you from?)\\n\\n[Verse 2]\\nI'm from the place where the church is the flakiest\\nAnd niggas been praying to God so long that they atheist\\nWhere you can't put your vest away\\nAnd say you'll wear it tomorrow\\n'Cause the day after we'll be saying\\n\"Damn, I was just with him yesterday\"\\nI'm a block away from hell\\nNot enough shots away from stray shells\\nAn ounce away from a triple beam\\nStill using a hand-held weight scale\\nYou're laughing, you know the place well\\nWhere the liquor stores and the base dwell\\nAnd government? Fuck government! Niggas politick theyselves\\nWhere we call the cops the A-Team\\n'Cause they hop out of vans and spray things\\nAnd life expectancy so low we making out wills at eighteens\\nWhere how you get rid of guys who step out of line, your rep solidifies\\nSo tell me when I rap, you think I give a fuck who criticize?\\nIf the shit is lies, God strike me\\nAnd I got a question:\\nAre you forgiving guys who live just like me? We'll never know\\nOne day I prayed to you and said if I ever blow, I'd let 'em know\\nThe stakes, and exactly what takes place in the ghetto\\nPromise fulfilled, still I feel my job ain't done\\nCough up a lung, where I'm from, Marcy son, ain't nothing nice\\n[Chorus]\\nCough up a lung, where I'm from, Marcy son, ain't nothing nice\\n(Mentally been many places but I'm Brooklyn's own)\\nCough up a lung, where I'm from, Marcy son, ain't nothing nice\\n(Mentally been many places but I'm Brooklyn's own)\\nCough up a lung, where I'm from, Marcy son, ain't nothing nice\\n(Mentally been many places but I'm Brooklyn's own)\\nCough up a lung, where I'm from, Marcy son, ain't nothing nice\\n(Mentally been many places but I'm Brooklyn's own)\\nCough up a lung, where I'm from, Marcy son, ain't nothing nice\\n(Brooklyn... so where you from?)\\n\\n[Verse 3]\\nCheck, I'm from where they cross-over and clap boards\\nLost Jehovah in place of rap lords, listen\\nI'm up the block, around the corner and down the street\\nFrom where the pimps, prostitutes and the drug lords meet\\nWe make a million off of beats, 'cause our stories is deep\\nAnd fuck tomorrow, as long as the night before was sweet\\nNiggas get lost for weeks in the street, twisted off leek\\nAnd no matter the weather, niggas know how to draw heat\\nWhether you're four-feet or Manute size\\nIt always starts out with three dice and \"shoot the five\"\\nNiggas thought they deuce was live, then I hit 'em with trips\\nAnd I reached down for their money, pa, forget about this\\nThis time around it's platinum, like the shit on my wrist\\nAnd this Glock on my waist, y'all can't do shit about this\\nNiggas'll show you love, that's how they fool thugs\\nBefore you know it, you're lying in a pool of blood\\nWhere I'm from\\n[Chorus]\\nCough up a lung, where I'm from, Marcy son, ain't nothing nice\\n(Mentally been many places but I'm Brooklyn's own)\\nCough up a lung, where I'm from, Marcy son, ain't nothing nice\\n(Mentally been many places but I'm Brooklyn's own)\\nCough up a lung, where I'm from, Marcy son, ain't nothing nice\\n(Mentally been many places but I'm Brooklyn's own)\\nCough up a lung, where I'm from, Marcy son, ain't nothing nice\\n(Brooklyn...)  \n",
      "199                                                                                                                                                                                                                                                                                                                                                                                                                                                                                                                                                                                                                                                                                                                                                                                                                                                                                                                                                                                                                                                                                                                                                                                                                                                                                                                                                                                                                                                                                                                           [Chorus: Pusha T & Pharrell]\\nI'm at your door, your eyes are like, \"Why are you here?\"\\nJudgin' by my steel, I got somethin' to do here\\nGive up the money or the angel cries two tears\\nFront of your crib sounding like Chinese New Year\\nBrrat, brrat, brrat, brrat\\nBrrat, brrat, ca-ca-ca-ca\\nBrrat, brrat, brrat, brrat\\nBrrat, brrat, ca-ca-ca-ca\\n\\n[Verse 1: Pusha T]\\nMask on face, Glock in hand\\nI was in and out of homes like the Orkin Man\\nNever listen to my parents like an orphan, man\\nStrong finger on the trigger like it's in dwarf's hands\\nConfiscate goodies like Repo Man Sam\\nMake nigga kick that can\\nFall victim to the Klick Klack Klan\\nMy vixen eat your face like she Ms. Pac-Man\\nMy wish her command, ugh\\nADTs ain't stop me\\nSimple like ABC's\\nSnip, cut, yank just as easy as one, two, three\\nBreakin' and entry so elementary\\nGet what the hustlers get for tryna do what the hustlers do\\nGive up the cash 'fore I turn you Cookie Monster blue\\nAnd your man and them for tryna be hustlers too\\nErnie and Bert, I bet them bullet holes burnin' and hurt, uh\\n[Chorus: Pusha T & Pharrell]\\nI'm at your door, your eyes are like, \"Why are you here?\"\\nJudgin' by my steel, I got somethin' to do here\\nGive up the money or the angel cries two tears\\nFront of your crib sounding like Chinese New Year\\nBrrat, brrat, brrat, brrat\\nBrrat, brrat, ca-ca-ca-ca\\nBrrat, brrat, brrat, brrat\\nBrrat, brrat, ca-ca-ca-ca\\n\\n[Verse 2: Malice]\\nLet's play cops and robbers\\nAnd watch Heckler & Koch turn cops to martyrs\\nAs well as niggas with plots to rob us\\nTry me, I'll turn this motherfucker into Shottas\\nWith them 911s revvin'\\nGunfire leave bredren remains like it's 9/11\\nThey fear the sounds of rounds dispensin'\\nThat clack up make 'em back up like it's invisible fencing\\nWhen I picture bits and pieces\\nOf bone chip and flesh, it tears me to pieces\\nCooperate, escaping's useless\\nTrust me, I'm your friend, I will talk you through this\\nTrick-or-treat niggas with hoods want the goods\\nI feel like Robin Hood when I share it with my hoods\\nDon't forget, he who plays hero gets hit\\nDon't let the nine mil' riddle your wits, smartypants\\n[Chorus: Pusha T & Pharrell]\\nI'm at your door, your eyes are like, \"Why are you here?\"\\nJudgin' by my steel, I got somethin' to do here\\nGive up the money or the angel cries two tears\\nFront of your crib sounding like Chinese New Year\\nBrrat, brrat, brrat, brrat\\nBrrat, brrat, ca-ca-ca-ca\\nBrrat, brrat, brrat, brrat\\nBrrat, brrat, ca-ca-ca-ca\\n\\n[Verse 3: Rosco P. Coldchain]\\nSympathy? I feel none, when you hear that humming\\nCommon sense'll tell you duck and get the fuck outta harm's way\\nYou dying'll absolutely make my day\\nWhy he had to go look cool? But he wasn't, so he got betrayed\\nThis is what I did to him, nozzle with a SIG to him\\nHurried out his crib, before that, took everything\\nPowder to pocket change, even the lint\\nLeft the boy layin' with his skin\\nIf I didn't get you right, you better hold your pistol tight\\nWhen we meet in the afterlife\\nColdchain on the block when it bleed\\nRosco P, young G, I don't speak, I just squeeze\\n97 P'll make you drop to your knees\\nBefore you know it\\nYou'll be floating to a better place, your soul feelin' free\\nI'm young, Black and I just don't give a fuck\\nBig burner on my waist, drugs in the trunk\\nSitting high in a truck, call me luck, come press me\\n[Chorus: Pusha T & Pharrell]\\nI'm at your door, your eyes are like, \"Why are you here?\"\\nJudgin' by my steel, I got somethin' to do here\\nGive up the money or the angel cries two tears\\nFront of your crib sounding like Chinese New Year\\nBrrat, brrat, brrat, brrat\\nBrrat, brrat, ca-ca-ca-ca\\nBrrat, brrat, brrat, brrat\\nBrrat, brrat, ca-ca-ca-ca\\nBrrat, brrat, brrat, brrat\\nBrrat, brrat, ca-ca-ca-ca\\nBrrat, brrat, brrat, brrat\\nBrrat, brrat, ca-ca-ca-ca  \n",
      "200                                                                                                                                                                                                                                                                                                                                                                                                                                                                                                                                                                                                                                                                                                                                                                                                                                                                                                                                                                                                                                                                                                                                                                                                                                                                                                                                                                                                                                                                                                                                                                                                                                                                                                                                                                                                                                                                                                                                                                                                                                                                                                                                                                                                                                               [Intro: Ricky Harris]\\nYou're back now at the jack-off hour\\nThis is DJ EZ Dicc\\nOn WBALLZ\\nRight now, something new by Snoop Doggy Dogg\\nAnd this one goes out to the ladies from all the guys\\nA big bow-wow-wow\\n'Cause we gonna make it a little misty here tonight\\nThis is DJ EZ Dicc\\nOn the station that slaps you across your fat ass with a fat dick\\n\\n[Verse 1: Nate Dogg]\\nWhen I met you last night, baby\\nBefore you opened up your gap\\nI had respect for you, lady\\nBut now, I take it all back\\n'Cause you gave me all your pussy\\nAnd you even licked my balls\\nLeave your number on the cabinet\\nAnd I promise, baby, I'll give you a call\\nNext time I'm feelin' kinda horny\\nYou can come on over\\nAnd I'll break you off\\nAnd if you can't fuck that day, baby\\nJust lay back and open your mouth\\n'Cause I have never met a girl\\nThat I love in the whole wide world\\n[Verse 2: Kurupt]\\nWell, if Kurupt gave a fuck about a bitch, I'd always be broke\\nI'd never have no motherfuckin' Indo to smoke\\nI gets loc'ed and loony, bitch, you can't do me\\nDo we look like BBD? You hoochie groupie\\nI have no love for hoes\\nThat's something that I learned in Tha Pound\\nSo how the fuck am I supposed to pay this hoe just to lay this hoe?\\nI know the pussy's mines, I'ma fuck a couple mo' times\\nAnd then I'm through with it, there's nothin' else to do with it\\nPass it to the homie, now you hit it\\n'Cause she ain't nothin' but a bitch to me\\nAnd y'all know, that bitches ain't shit to me\\nI gives a fuck, why don't y'all pay attention?\\nApproach her with a different proposition\\nI'm Kurupt, ho, you'll never be my only one, trick-ass bitch!\\n\\n[Hook: Nate Dogg]\\nIt ain't no fun if the homies can't have none\\nIt ain't no fun if the homies can't have none\\nIt ain't no fun if the homies can't have none\\nIt ain't no fun if the homies can't have none\\n\\n[Verse 3: Snoop Dogg]\\nGuess who's back in the motherfuckin' house?\\nWith a fat dick for your motherfuckin' mouth\\nHoes recognize, niggas do too\\n'Cause when bitches get scandalous and pull a voodoo\\nWhat you gon' do? You really don't know\\nSo I'd advise you not to trust that ho\\nSilly of me to fall in love with a bitch\\nKnowin' damn well I'm too caught up with my grip\\nNow, as the sun rotates and my game grows bigger\\nHow many bitches wanna fuck this nigga named Snoop?\\nDoggy, I'm all the above\\nI'm too swift on my toes to get caught up with you hoes\\nBut see, it ain't no fun\\nIf my homies can't get a taste of it\\n'Cause you know I don't love 'em\\n[Verse 4: Warren G]\\nWoo! Hey, now you know\\nInhale, exhale with my flow\\nOne for the money, two for the bitches\\nThree to get ready, and four to hit the switches\\nIn my Chevy, '64—red, to be exact\\nWith bitches on my side and bitches on my back\\nSo back up, bitch, because I'm strugglin'\\nJust get on your knees and then start jugglin'\\nThese motherfuckin' nuts in your mouth\\nIt's me, Warren G, the nigga with the clout\\n\\n[Hook: Nate Dogg]\\nIt ain't no fun if the homies can't have none\\nIt ain't no fun if the homies can't have none\\nIt ain't no fun if the homies can't have none\\nIt ain't no fun if the homies can't have none  \n",
      "\n",
      "[200 rows x 5 columns]\n"
     ]
    }
   ],
   "source": [
    "rap_data = Final_rap_data.head(200)\n",
    "\n",
    "# Display the new DataFrame\n",
    "print(rap_data)"
   ]
  },
  {
   "cell_type": "code",
   "execution_count": 22,
   "metadata": {},
   "outputs": [],
   "source": [
    "import re\n",
    "\n",
    "def process_lyrics(lyrics):\n",
    "    # Remove square brackets and text within them\n",
    "    lyrics = re.sub(r'\\[.*?\\]', '', lyrics)\n",
    "    # Remove extra spaces resulting from removing square brackets\n",
    "    lyrics = lyrics.strip()\n",
    "    # Limit to the first 20 lines\n",
    "    lyrics = '\\n'.join(lyrics.split('\\n')[:20])\n",
    "    return lyrics"
   ]
  },
  {
   "cell_type": "code",
   "execution_count": 23,
   "metadata": {},
   "outputs": [
    {
     "name": "stderr",
     "output_type": "stream",
     "text": [
      "C:\\Users\\de\\AppData\\Local\\Temp\\ipykernel_6252\\3523640485.py:2: SettingWithCopyWarning: \n",
      "A value is trying to be set on a copy of a slice from a DataFrame.\n",
      "Try using .loc[row_indexer,col_indexer] = value instead\n",
      "\n",
      "See the caveats in the documentation: https://pandas.pydata.org/pandas-docs/stable/user_guide/indexing.html#returning-a-view-versus-a-copy\n",
      "  rap_data['lyrics'] = rap_data['lyrics'].apply(process_lyrics)\n"
     ]
    }
   ],
   "source": [
    "# Apply the function to the 'lyrics' column\n",
    "rap_data['lyrics'] = rap_data['lyrics'].apply(process_lyrics)"
   ]
  },
  {
   "cell_type": "code",
   "execution_count": 24,
   "metadata": {},
   "outputs": [
    {
     "data": {
      "text/html": [
       "<div>\n",
       "<style scoped>\n",
       "    .dataframe tbody tr th:only-of-type {\n",
       "        vertical-align: middle;\n",
       "    }\n",
       "\n",
       "    .dataframe tbody tr th {\n",
       "        vertical-align: top;\n",
       "    }\n",
       "\n",
       "    .dataframe thead th {\n",
       "        text-align: right;\n",
       "    }\n",
       "</style>\n",
       "<table border=\"1\" class=\"dataframe\">\n",
       "  <thead>\n",
       "    <tr style=\"text-align: right;\">\n",
       "      <th></th>\n",
       "      <th>artist_name</th>\n",
       "      <th>track_name</th>\n",
       "      <th>release_date</th>\n",
       "      <th>genre</th>\n",
       "      <th>lyrics</th>\n",
       "    </tr>\n",
       "  </thead>\n",
       "  <tbody>\n",
       "    <tr>\n",
       "      <th>0</th>\n",
       "      <td>Cam'ron</td>\n",
       "      <td>Killa Cam</td>\n",
       "      <td>2004</td>\n",
       "      <td>rap</td>\n",
       "      <td>Killa Cam, Killa Cam, Cam\\nKilla Cam, Killa Cam\\nKilla Cam, Cam\\nKilla Cam, Killa Cam, Cam\\nKilla Killa Killa Cam\\nKilla Cam, Cam, Killa (Killa!)\\nKilla Cam, Killa Cam, Cam (Bases loaded)\\nKilla Cam, Killa Cam (Uh-huh)\\nKilla Cam, Cam (Santana on second, Jim on third)\\nKilla Cam, Killa Cam, Cam (I'm at bat)\\nKilla Killa Killa Cam\\nKilla Cam, Cam, Killa (I'm 'bout to hit this shit out the world)\\nKilla Cam (Ugh, Heatmakerz), Killa Cam, Cam\\nKilla Cam, Killa Cam\\nKilla Cam, Cam (Hahahaha)\\nKilla Cam, Killa Cam, Cam\\nKilla Killa Killa Cam\\nKilla Cam, Cam, Killa (We  make this shit clap)\\nKilla Cam, Killa Cam, Cam\\nKilla Cam, Killa Cam</td>\n",
       "    </tr>\n",
       "    <tr>\n",
       "      <th>1</th>\n",
       "      <td>JAY-Z</td>\n",
       "      <td>Can I Live</td>\n",
       "      <td>1996</td>\n",
       "      <td>rap</td>\n",
       "      <td>Yeah, hah, yeah, Roc-A-Fella\\nWe invite you to somethin' epic, you know?\\nWell, we hustle out of a sense of hopelessness\\nSort of a desperation\\nThrough that desperation, we become addicted\\nSort of like the fiends we accustomed to servin'\\nBut we feel we have nothin' to lose\\nSo, we offer you, well, we offer our lives, right?\\nWhat do you bring to the table?\\n\\n\\nWhile I'm watchin' every nigga watchin' me closely\\nMy shit is butter for the bread, they wanna toast me\\nI keep my head, both of them, where they supposed to be\\nHoes'll get you sidetracked, then clapped from close feet\\nI don't sleep, I'm tired, I feel wired like codeine, these days\\nA brother gotta admire me from four fiends away\\nMy pain, wish it was quick to see\\nFrom sellin' 'caine 'til brains was fried to a fricassee\\nCan't lie, at the time it never bothered me</td>\n",
       "    </tr>\n",
       "    <tr>\n",
       "      <th>2</th>\n",
       "      <td>Fabolous</td>\n",
       "      <td>Forgive Me Father</td>\n",
       "      <td>2003</td>\n",
       "      <td>rap</td>\n",
       "      <td>Maybe cause I'm eatin\\nAnd these bastards fiend for they grub\\nI carry pumps like I serve gasoline to these scrubs\\nHave you seen my Aston leanin on dubs\\nAnd they can't afford chrome so they puttin Vaseline on they hubs\\nI'm lookin for a girl with a ass like Trina to rub\\nTake home and let her watch the plasma screen in the tub\\nThese niggas hate I move as smooth as castor cream in the club\\nAnd dont pass my green or my bub\\nBut I'm a fly nigga that don't do much to pull her and dick her\\nEveryday I'm poppin a tag and pullin a sticker\\nEveryday I'm switchin the tags and pullin up sicker\\nEvery \"K\" I'm loadin the mags with bullets to flicker\\nAnd I ain't hesitatin homie I'm pullin it quicker\\nSo you can act tough After a few pulls of some liquor\\nGotta pull it on niggas\\nAnd they won't be goin nowhere for a while\\nThey might as well pull out a snicker Ye-Ye-Yea\\n\\n</td>\n",
       "    </tr>\n",
       "    <tr>\n",
       "      <th>3</th>\n",
       "      <td>Cam'ron</td>\n",
       "      <td>Down and Out</td>\n",
       "      <td>2004</td>\n",
       "      <td>rap</td>\n",
       "      <td>Ugh, Killa!\\nBaby!\\nKanye, this that 1970s Heron flow, huh?\\nYeah, let's speed it up\\nUgh, I'm back in, ugh, ugh\\nThey don't know we finna kill the game this year\\nKilla! 'Ye! C'mon!\\n\\n\\nAyo, street mergers, I legislated; the nerve, I never hated\\nOn murders, premeditated—absurd! I hesitated\\nObserve: cock and spray, hit you from a block away\\nDrinking sake on a Suzuki; we in Osaka Bay\\nPlaying soccer, stupid, stay in a sucker's place\\nPluck your ace, take your girl, fuck her face\\nShe dealing with Killa, so you love her taste\\nShe swallowing Killa 'cause she love the taste\\nI got brought up with crooking, kitchen orders that I'm cooking\\nBut got caught up with the juxes\\nYou would've thought I was from Brooklyn</td>\n",
       "    </tr>\n",
       "    <tr>\n",
       "      <th>4</th>\n",
       "      <td>Lil Wayne</td>\n",
       "      <td>Fly In</td>\n",
       "      <td>2005</td>\n",
       "      <td>rap</td>\n",
       "      <td>So they ask me\\n\"Young boy\\nWhat you gon' do the second time around?\\nHow you gon' come back?\"\\nI tried told 'em\\n\"I come back like 32\\nI jump back like 33\"\\nUgh, hit me\\nThat's nothing\\nThis is Tha Carter II, people\\nThis is Tha Carter II, people\\nHey\\n\\n\\nThey call me Mr. Carter, I kissed the daughter\\nOf the dead's forehead, I killed the father\\nSpilled the heart of a mildew hater\\nI will put them body on chill like glaciers, gracias\\nI'm crazy, yes, it's obvious\\nGoing against me is atheist</td>\n",
       "    </tr>\n",
       "  </tbody>\n",
       "</table>\n",
       "</div>"
      ],
      "text/plain": [
       "  artist_name         track_name  release_date genre  \\\n",
       "0     Cam'ron          Killa Cam          2004   rap   \n",
       "1       JAY-Z         Can I Live          1996   rap   \n",
       "2    Fabolous  Forgive Me Father          2003   rap   \n",
       "3     Cam'ron       Down and Out          2004   rap   \n",
       "4   Lil Wayne             Fly In          2005   rap   \n",
       "\n",
       "                                                                                                                                                                                                                                                                                                                                                                                                                                                                                                                                                                                                                                                                                                                                                                                                                                                                                                          lyrics  \n",
       "0                                                                                                                                                                                                                                                Killa Cam, Killa Cam, Cam\\nKilla Cam, Killa Cam\\nKilla Cam, Cam\\nKilla Cam, Killa Cam, Cam\\nKilla Killa Killa Cam\\nKilla Cam, Cam, Killa (Killa!)\\nKilla Cam, Killa Cam, Cam (Bases loaded)\\nKilla Cam, Killa Cam (Uh-huh)\\nKilla Cam, Cam (Santana on second, Jim on third)\\nKilla Cam, Killa Cam, Cam (I'm at bat)\\nKilla Killa Killa Cam\\nKilla Cam, Cam, Killa (I'm 'bout to hit this shit out the world)\\nKilla Cam (Ugh, Heatmakerz), Killa Cam, Cam\\nKilla Cam, Killa Cam\\nKilla Cam, Cam (Hahahaha)\\nKilla Cam, Killa Cam, Cam\\nKilla Killa Killa Cam\\nKilla Cam, Cam, Killa (We  make this shit clap)\\nKilla Cam, Killa Cam, Cam\\nKilla Cam, Killa Cam  \n",
       "1                                        Yeah, hah, yeah, Roc-A-Fella\\nWe invite you to somethin' epic, you know?\\nWell, we hustle out of a sense of hopelessness\\nSort of a desperation\\nThrough that desperation, we become addicted\\nSort of like the fiends we accustomed to servin'\\nBut we feel we have nothin' to lose\\nSo, we offer you, well, we offer our lives, right?\\nWhat do you bring to the table?\\n\\n\\nWhile I'm watchin' every nigga watchin' me closely\\nMy shit is butter for the bread, they wanna toast me\\nI keep my head, both of them, where they supposed to be\\nHoes'll get you sidetracked, then clapped from close feet\\nI don't sleep, I'm tired, I feel wired like codeine, these days\\nA brother gotta admire me from four fiends away\\nMy pain, wish it was quick to see\\nFrom sellin' 'caine 'til brains was fried to a fricassee\\nCan't lie, at the time it never bothered me  \n",
       "2  Maybe cause I'm eatin\\nAnd these bastards fiend for they grub\\nI carry pumps like I serve gasoline to these scrubs\\nHave you seen my Aston leanin on dubs\\nAnd they can't afford chrome so they puttin Vaseline on they hubs\\nI'm lookin for a girl with a ass like Trina to rub\\nTake home and let her watch the plasma screen in the tub\\nThese niggas hate I move as smooth as castor cream in the club\\nAnd dont pass my green or my bub\\nBut I'm a fly nigga that don't do much to pull her and dick her\\nEveryday I'm poppin a tag and pullin a sticker\\nEveryday I'm switchin the tags and pullin up sicker\\nEvery \"K\" I'm loadin the mags with bullets to flicker\\nAnd I ain't hesitatin homie I'm pullin it quicker\\nSo you can act tough After a few pulls of some liquor\\nGotta pull it on niggas\\nAnd they won't be goin nowhere for a while\\nThey might as well pull out a snicker Ye-Ye-Yea\\n\\n  \n",
       "3                                                                                                                                                             Ugh, Killa!\\nBaby!\\nKanye, this that 1970s Heron flow, huh?\\nYeah, let's speed it up\\nUgh, I'm back in, ugh, ugh\\nThey don't know we finna kill the game this year\\nKilla! 'Ye! C'mon!\\n\\n\\nAyo, street mergers, I legislated; the nerve, I never hated\\nOn murders, premeditated—absurd! I hesitated\\nObserve: cock and spray, hit you from a block away\\nDrinking sake on a Suzuki; we in Osaka Bay\\nPlaying soccer, stupid, stay in a sucker's place\\nPluck your ace, take your girl, fuck her face\\nShe dealing with Killa, so you love her taste\\nShe swallowing Killa 'cause she love the taste\\nI got brought up with crooking, kitchen orders that I'm cooking\\nBut got caught up with the juxes\\nYou would've thought I was from Brooklyn  \n",
       "4                                                                                                                                                                                                                                                                                                                                                                                            So they ask me\\n\"Young boy\\nWhat you gon' do the second time around?\\nHow you gon' come back?\"\\nI tried told 'em\\n\"I come back like 32\\nI jump back like 33\"\\nUgh, hit me\\nThat's nothing\\nThis is Tha Carter II, people\\nThis is Tha Carter II, people\\nHey\\n\\n\\nThey call me Mr. Carter, I kissed the daughter\\nOf the dead's forehead, I killed the father\\nSpilled the heart of a mildew hater\\nI will put them body on chill like glaciers, gracias\\nI'm crazy, yes, it's obvious\\nGoing against me is atheist  "
      ]
     },
     "execution_count": 24,
     "metadata": {},
     "output_type": "execute_result"
    }
   ],
   "source": [
    "rap_data.head()"
   ]
  },
  {
   "cell_type": "code",
   "execution_count": 26,
   "metadata": {},
   "outputs": [
    {
     "name": "stderr",
     "output_type": "stream",
     "text": [
      "C:\\Users\\de\\AppData\\Local\\Temp\\ipykernel_6252\\3511886075.py:2: SettingWithCopyWarning: \n",
      "A value is trying to be set on a copy of a slice from a DataFrame.\n",
      "Try using .loc[row_indexer,col_indexer] = value instead\n",
      "\n",
      "See the caveats in the documentation: https://pandas.pydata.org/pandas-docs/stable/user_guide/indexing.html#returning-a-view-versus-a-copy\n",
      "  rap_data['lyrics'] = rap_data['lyrics'].str.replace('\\n', ' ', regex=True)\n"
     ]
    }
   ],
   "source": [
    "# Combine lines in the \"lyrics\" column\n",
    "rap_data['lyrics'] = rap_data['lyrics'].str.replace('\\n', ' ', regex=True)\n"
   ]
  },
  {
   "cell_type": "code",
   "execution_count": 27,
   "metadata": {},
   "outputs": [
    {
     "data": {
      "text/html": [
       "<div>\n",
       "<style scoped>\n",
       "    .dataframe tbody tr th:only-of-type {\n",
       "        vertical-align: middle;\n",
       "    }\n",
       "\n",
       "    .dataframe tbody tr th {\n",
       "        vertical-align: top;\n",
       "    }\n",
       "\n",
       "    .dataframe thead th {\n",
       "        text-align: right;\n",
       "    }\n",
       "</style>\n",
       "<table border=\"1\" class=\"dataframe\">\n",
       "  <thead>\n",
       "    <tr style=\"text-align: right;\">\n",
       "      <th></th>\n",
       "      <th>artist_name</th>\n",
       "      <th>track_name</th>\n",
       "      <th>release_date</th>\n",
       "      <th>genre</th>\n",
       "      <th>lyrics</th>\n",
       "    </tr>\n",
       "  </thead>\n",
       "  <tbody>\n",
       "    <tr>\n",
       "      <th>0</th>\n",
       "      <td>Cam'ron</td>\n",
       "      <td>Killa Cam</td>\n",
       "      <td>2004</td>\n",
       "      <td>rap</td>\n",
       "      <td>Killa Cam, Killa Cam, Cam Killa Cam, Killa Cam Killa Cam, Cam Killa Cam, Killa Cam, Cam Killa Killa Killa Cam Killa Cam, Cam, Killa (Killa!) Killa Cam, Killa Cam, Cam (Bases loaded) Killa Cam, Killa Cam (Uh-huh) Killa Cam, Cam (Santana on second, Jim on third) Killa Cam, Killa Cam, Cam (I'm at bat) Killa Killa Killa Cam Killa Cam, Cam, Killa (I'm 'bout to hit this shit out the world) Killa Cam (Ugh, Heatmakerz), Killa Cam, Cam Killa Cam, Killa Cam Killa Cam, Cam (Hahahaha) Killa Cam, Killa Cam, Cam Killa Killa Killa Cam Killa Cam, Cam, Killa (We  make this shit clap) Killa Cam, Killa Cam, Cam Killa Cam, Killa Cam</td>\n",
       "    </tr>\n",
       "    <tr>\n",
       "      <th>1</th>\n",
       "      <td>JAY-Z</td>\n",
       "      <td>Can I Live</td>\n",
       "      <td>1996</td>\n",
       "      <td>rap</td>\n",
       "      <td>Yeah, hah, yeah, Roc-A-Fella We invite you to somethin' epic, you know? Well, we hustle out of a sense of hopelessness Sort of a desperation Through that desperation, we become addicted Sort of like the fiends we accustomed to servin' But we feel we have nothin' to lose So, we offer you, well, we offer our lives, right? What do you bring to the table?   While I'm watchin' every nigga watchin' me closely My shit is butter for the bread, they wanna toast me I keep my head, both of them, where they supposed to be Hoes'll get you sidetracked, then clapped from close feet I don't sleep, I'm tired, I feel wired like codeine, these days A brother gotta admire me from four fiends away My pain, wish it was quick to see From sellin' 'caine 'til brains was fried to a fricassee Can't lie, at the time it never bothered me</td>\n",
       "    </tr>\n",
       "    <tr>\n",
       "      <th>2</th>\n",
       "      <td>Fabolous</td>\n",
       "      <td>Forgive Me Father</td>\n",
       "      <td>2003</td>\n",
       "      <td>rap</td>\n",
       "      <td>Maybe cause I'm eatin And these bastards fiend for they grub I carry pumps like I serve gasoline to these scrubs Have you seen my Aston leanin on dubs And they can't afford chrome so they puttin Vaseline on they hubs I'm lookin for a girl with a ass like Trina to rub Take home and let her watch the plasma screen in the tub These niggas hate I move as smooth as castor cream in the club And dont pass my green or my bub But I'm a fly nigga that don't do much to pull her and dick her Everyday I'm poppin a tag and pullin a sticker Everyday I'm switchin the tags and pullin up sicker Every \"K\" I'm loadin the mags with bullets to flicker And I ain't hesitatin homie I'm pullin it quicker So you can act tough After a few pulls of some liquor Gotta pull it on niggas And they won't be goin nowhere for a while They might as well pull out a snicker Ye-Ye-Yea</td>\n",
       "    </tr>\n",
       "    <tr>\n",
       "      <th>3</th>\n",
       "      <td>Cam'ron</td>\n",
       "      <td>Down and Out</td>\n",
       "      <td>2004</td>\n",
       "      <td>rap</td>\n",
       "      <td>Ugh, Killa! Baby! Kanye, this that 1970s Heron flow, huh? Yeah, let's speed it up Ugh, I'm back in, ugh, ugh They don't know we finna kill the game this year Killa! 'Ye! C'mon!   Ayo, street mergers, I legislated; the nerve, I never hated On murders, premeditated—absurd! I hesitated Observe: cock and spray, hit you from a block away Drinking sake on a Suzuki; we in Osaka Bay Playing soccer, stupid, stay in a sucker's place Pluck your ace, take your girl, fuck her face She dealing with Killa, so you love her taste She swallowing Killa 'cause she love the taste I got brought up with crooking, kitchen orders that I'm cooking But got caught up with the juxes You would've thought I was from Brooklyn</td>\n",
       "    </tr>\n",
       "    <tr>\n",
       "      <th>4</th>\n",
       "      <td>Lil Wayne</td>\n",
       "      <td>Fly In</td>\n",
       "      <td>2005</td>\n",
       "      <td>rap</td>\n",
       "      <td>So they ask me \"Young boy What you gon' do the second time around? How you gon' come back?\" I tried told 'em \"I come back like 32 I jump back like 33\" Ugh, hit me That's nothing This is Tha Carter II, people This is Tha Carter II, people Hey   They call me Mr. Carter, I kissed the daughter Of the dead's forehead, I killed the father Spilled the heart of a mildew hater I will put them body on chill like glaciers, gracias I'm crazy, yes, it's obvious Going against me is atheist</td>\n",
       "    </tr>\n",
       "  </tbody>\n",
       "</table>\n",
       "</div>"
      ],
      "text/plain": [
       "  artist_name         track_name  release_date genre  \\\n",
       "0     Cam'ron          Killa Cam          2004   rap   \n",
       "1       JAY-Z         Can I Live          1996   rap   \n",
       "2    Fabolous  Forgive Me Father          2003   rap   \n",
       "3     Cam'ron       Down and Out          2004   rap   \n",
       "4   Lil Wayne             Fly In          2005   rap   \n",
       "\n",
       "                                                                                                                                                                                                                                                                                                                                                                                                                                                                                                                                                                                                                                                                                                                                                                                                                                                                                       lyrics  \n",
       "0                                                                                                                                                                                                                                                Killa Cam, Killa Cam, Cam Killa Cam, Killa Cam Killa Cam, Cam Killa Cam, Killa Cam, Cam Killa Killa Killa Cam Killa Cam, Cam, Killa (Killa!) Killa Cam, Killa Cam, Cam (Bases loaded) Killa Cam, Killa Cam (Uh-huh) Killa Cam, Cam (Santana on second, Jim on third) Killa Cam, Killa Cam, Cam (I'm at bat) Killa Killa Killa Cam Killa Cam, Cam, Killa (I'm 'bout to hit this shit out the world) Killa Cam (Ugh, Heatmakerz), Killa Cam, Cam Killa Cam, Killa Cam Killa Cam, Cam (Hahahaha) Killa Cam, Killa Cam, Cam Killa Killa Killa Cam Killa Cam, Cam, Killa (We  make this shit clap) Killa Cam, Killa Cam, Cam Killa Cam, Killa Cam  \n",
       "1                                        Yeah, hah, yeah, Roc-A-Fella We invite you to somethin' epic, you know? Well, we hustle out of a sense of hopelessness Sort of a desperation Through that desperation, we become addicted Sort of like the fiends we accustomed to servin' But we feel we have nothin' to lose So, we offer you, well, we offer our lives, right? What do you bring to the table?   While I'm watchin' every nigga watchin' me closely My shit is butter for the bread, they wanna toast me I keep my head, both of them, where they supposed to be Hoes'll get you sidetracked, then clapped from close feet I don't sleep, I'm tired, I feel wired like codeine, these days A brother gotta admire me from four fiends away My pain, wish it was quick to see From sellin' 'caine 'til brains was fried to a fricassee Can't lie, at the time it never bothered me  \n",
       "2  Maybe cause I'm eatin And these bastards fiend for they grub I carry pumps like I serve gasoline to these scrubs Have you seen my Aston leanin on dubs And they can't afford chrome so they puttin Vaseline on they hubs I'm lookin for a girl with a ass like Trina to rub Take home and let her watch the plasma screen in the tub These niggas hate I move as smooth as castor cream in the club And dont pass my green or my bub But I'm a fly nigga that don't do much to pull her and dick her Everyday I'm poppin a tag and pullin a sticker Everyday I'm switchin the tags and pullin up sicker Every \"K\" I'm loadin the mags with bullets to flicker And I ain't hesitatin homie I'm pullin it quicker So you can act tough After a few pulls of some liquor Gotta pull it on niggas And they won't be goin nowhere for a while They might as well pull out a snicker Ye-Ye-Yea    \n",
       "3                                                                                                                                                             Ugh, Killa! Baby! Kanye, this that 1970s Heron flow, huh? Yeah, let's speed it up Ugh, I'm back in, ugh, ugh They don't know we finna kill the game this year Killa! 'Ye! C'mon!   Ayo, street mergers, I legislated; the nerve, I never hated On murders, premeditated—absurd! I hesitated Observe: cock and spray, hit you from a block away Drinking sake on a Suzuki; we in Osaka Bay Playing soccer, stupid, stay in a sucker's place Pluck your ace, take your girl, fuck her face She dealing with Killa, so you love her taste She swallowing Killa 'cause she love the taste I got brought up with crooking, kitchen orders that I'm cooking But got caught up with the juxes You would've thought I was from Brooklyn  \n",
       "4                                                                                                                                                                                                                                                                                                                                                                                            So they ask me \"Young boy What you gon' do the second time around? How you gon' come back?\" I tried told 'em \"I come back like 32 I jump back like 33\" Ugh, hit me That's nothing This is Tha Carter II, people This is Tha Carter II, people Hey   They call me Mr. Carter, I kissed the daughter Of the dead's forehead, I killed the father Spilled the heart of a mildew hater I will put them body on chill like glaciers, gracias I'm crazy, yes, it's obvious Going against me is atheist  "
      ]
     },
     "execution_count": 27,
     "metadata": {},
     "output_type": "execute_result"
    }
   ],
   "source": [
    "rap_data.head()"
   ]
  },
  {
   "cell_type": "code",
   "execution_count": 28,
   "metadata": {},
   "outputs": [],
   "source": [
    "rap_data.to_csv(\"Student_dataset.csv\")"
   ]
  },
  {
   "cell_type": "code",
   "execution_count": 3,
   "metadata": {},
   "outputs": [],
   "source": [
    "df1 = pd.read_csv(\"datasets\\Mendeley_dataset.csv\")"
   ]
  },
  {
   "cell_type": "code",
   "execution_count": 5,
   "metadata": {},
   "outputs": [],
   "source": [
    "df2 = pd.read_csv(\"datasets\\Student_dataset.csv\")"
   ]
  },
  {
   "cell_type": "code",
   "execution_count": 6,
   "metadata": {},
   "outputs": [
    {
     "data": {
      "text/html": [
       "<div>\n",
       "<style scoped>\n",
       "    .dataframe tbody tr th:only-of-type {\n",
       "        vertical-align: middle;\n",
       "    }\n",
       "\n",
       "    .dataframe tbody tr th {\n",
       "        vertical-align: top;\n",
       "    }\n",
       "\n",
       "    .dataframe thead th {\n",
       "        text-align: right;\n",
       "    }\n",
       "</style>\n",
       "<table border=\"1\" class=\"dataframe\">\n",
       "  <thead>\n",
       "    <tr style=\"text-align: right;\">\n",
       "      <th></th>\n",
       "      <th>artist_name</th>\n",
       "      <th>track_name</th>\n",
       "      <th>release_date</th>\n",
       "      <th>genre</th>\n",
       "      <th>lyrics</th>\n",
       "    </tr>\n",
       "  </thead>\n",
       "  <tbody>\n",
       "    <tr>\n",
       "      <th>0</th>\n",
       "      <td>mukesh</td>\n",
       "      <td>mohabbat bhi jhoothi</td>\n",
       "      <td>1950</td>\n",
       "      <td>pop</td>\n",
       "      <td>hold time feel break feel untrue convince spea...</td>\n",
       "    </tr>\n",
       "    <tr>\n",
       "      <th>1</th>\n",
       "      <td>frankie laine</td>\n",
       "      <td>i believe</td>\n",
       "      <td>1950</td>\n",
       "      <td>pop</td>\n",
       "      <td>believe drop rain fall grow believe darkest ni...</td>\n",
       "    </tr>\n",
       "    <tr>\n",
       "      <th>2</th>\n",
       "      <td>johnnie ray</td>\n",
       "      <td>cry</td>\n",
       "      <td>1950</td>\n",
       "      <td>pop</td>\n",
       "      <td>sweetheart send letter goodbye secret feel bet...</td>\n",
       "    </tr>\n",
       "    <tr>\n",
       "      <th>3</th>\n",
       "      <td>pérez prado</td>\n",
       "      <td>patricia</td>\n",
       "      <td>1950</td>\n",
       "      <td>pop</td>\n",
       "      <td>kiss lips want stroll charm mambo chacha merin...</td>\n",
       "    </tr>\n",
       "    <tr>\n",
       "      <th>4</th>\n",
       "      <td>giorgos papadopoulos</td>\n",
       "      <td>apopse eida oneiro</td>\n",
       "      <td>1950</td>\n",
       "      <td>pop</td>\n",
       "      <td>till darling till matter know till dream live ...</td>\n",
       "    </tr>\n",
       "  </tbody>\n",
       "</table>\n",
       "</div>"
      ],
      "text/plain": [
       "            artist_name            track_name  release_date genre  \\\n",
       "0                mukesh  mohabbat bhi jhoothi          1950   pop   \n",
       "1         frankie laine             i believe          1950   pop   \n",
       "2           johnnie ray                   cry          1950   pop   \n",
       "3           pérez prado              patricia          1950   pop   \n",
       "4  giorgos papadopoulos    apopse eida oneiro          1950   pop   \n",
       "\n",
       "                                              lyrics  \n",
       "0  hold time feel break feel untrue convince spea...  \n",
       "1  believe drop rain fall grow believe darkest ni...  \n",
       "2  sweetheart send letter goodbye secret feel bet...  \n",
       "3  kiss lips want stroll charm mambo chacha merin...  \n",
       "4  till darling till matter know till dream live ...  "
      ]
     },
     "execution_count": 6,
     "metadata": {},
     "output_type": "execute_result"
    }
   ],
   "source": [
    "\n",
    "# Select the desired columns from each DataFrame\n",
    "df1_selected = df1[['artist_name', 'track_name', 'release_date', 'genre', 'lyrics']]\n",
    "df2_selected = df2[['artist_name', 'track_name', 'release_date', 'genre', 'lyrics']]\n",
    "\n",
    "# Concatenate the selected DataFrames\n",
    "mergeddf = pd.concat([df1_selected, df2_selected], ignore_index=True)\n",
    "\n",
    "mergeddf.head()"
   ]
  },
  {
   "cell_type": "code",
   "execution_count": 8,
   "metadata": {},
   "outputs": [
    {
     "data": {
      "text/plain": [
       "array(['pop', 'country', 'blues', 'jazz', 'reggae', 'rock', 'hip hop',\n",
       "       'rap'], dtype=object)"
      ]
     },
     "execution_count": 8,
     "metadata": {},
     "output_type": "execute_result"
    }
   ],
   "source": [
    "mergeddf[\"genre\"].unique()"
   ]
  },
  {
   "cell_type": "code",
   "execution_count": 9,
   "metadata": {},
   "outputs": [],
   "source": [
    "mergeddf.to_csv(\"Merged_dataset.csv\")"
   ]
  },
  {
   "cell_type": "code",
   "execution_count": null,
   "metadata": {},
   "outputs": [],
   "source": []
  }
 ],
 "metadata": {
  "kernelspec": {
   "display_name": "newvenv",
   "language": "python",
   "name": "python3"
  },
  "language_info": {
   "codemirror_mode": {
    "name": "ipython",
    "version": 3
   },
   "file_extension": ".py",
   "mimetype": "text/x-python",
   "name": "python",
   "nbconvert_exporter": "python",
   "pygments_lexer": "ipython3",
   "version": "3.8.0"
  }
 },
 "nbformat": 4,
 "nbformat_minor": 2
}
